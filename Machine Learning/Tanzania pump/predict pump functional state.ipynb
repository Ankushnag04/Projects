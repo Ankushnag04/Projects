{
 "cells": [
  {
   "cell_type": "code",
   "execution_count": 1,
   "metadata": {
    "id": "I3m2dbyDkKMb"
   },
   "outputs": [],
   "source": [
    "#importing libraries\n",
    "import numpy as np\n",
    "import pandas as pd\n",
    "import seaborn as sns\n",
    "import matplotlib.pyplot as plt"
   ]
  },
  {
   "cell_type": "code",
   "execution_count": 2,
   "metadata": {
    "id": "O8uE4dotkbaT"
   },
   "outputs": [],
   "source": [
    "#importing the training and test dataframe\n",
    "df_train=pd.read_csv('D:\\IIT bombay\\ee 769\\EE assignment2-203110049\\Train.csv')\n",
    "df_test=pd.read_csv('D:\\IIT bombay\\ee 769\\EE assignment2-203110049\\Test.csv')"
   ]
  },
  {
   "cell_type": "code",
   "execution_count": 6,
   "metadata": {
    "colab": {
     "base_uri": "https://localhost:8080/",
     "height": 383
    },
    "id": "qCk_2G1tloH7",
    "outputId": "eb8731ca-4b1a-48e5-9913-0e43cb51eb53"
   },
   "outputs": [
    {
     "data": {
      "text/html": [
       "<div>\n",
       "<style scoped>\n",
       "    .dataframe tbody tr th:only-of-type {\n",
       "        vertical-align: middle;\n",
       "    }\n",
       "\n",
       "    .dataframe tbody tr th {\n",
       "        vertical-align: top;\n",
       "    }\n",
       "\n",
       "    .dataframe thead th {\n",
       "        text-align: right;\n",
       "    }\n",
       "</style>\n",
       "<table border=\"1\" class=\"dataframe\">\n",
       "  <thead>\n",
       "    <tr style=\"text-align: right;\">\n",
       "      <th></th>\n",
       "      <th>id</th>\n",
       "      <th>amount_tsh</th>\n",
       "      <th>date_recorded</th>\n",
       "      <th>funder</th>\n",
       "      <th>gps_height</th>\n",
       "      <th>installer</th>\n",
       "      <th>longitude</th>\n",
       "      <th>latitude</th>\n",
       "      <th>wpt_name</th>\n",
       "      <th>num_private</th>\n",
       "      <th>...</th>\n",
       "      <th>water_quality</th>\n",
       "      <th>quality_group</th>\n",
       "      <th>quantity</th>\n",
       "      <th>quantity_group</th>\n",
       "      <th>source</th>\n",
       "      <th>source_type</th>\n",
       "      <th>source_class</th>\n",
       "      <th>waterpoint_type</th>\n",
       "      <th>waterpoint_type_group</th>\n",
       "      <th>status_group</th>\n",
       "    </tr>\n",
       "  </thead>\n",
       "  <tbody>\n",
       "    <tr>\n",
       "      <td>0</td>\n",
       "      <td>7411</td>\n",
       "      <td>7.0</td>\n",
       "      <td>2013-03-20</td>\n",
       "      <td>Germany Republi</td>\n",
       "      <td>1203</td>\n",
       "      <td>CES</td>\n",
       "      <td>37.228664</td>\n",
       "      <td>-3.256505</td>\n",
       "      <td>Kwa Abdalla</td>\n",
       "      <td>0</td>\n",
       "      <td>...</td>\n",
       "      <td>soft</td>\n",
       "      <td>good</td>\n",
       "      <td>enough</td>\n",
       "      <td>enough</td>\n",
       "      <td>spring</td>\n",
       "      <td>spring</td>\n",
       "      <td>groundwater</td>\n",
       "      <td>communal standpipe</td>\n",
       "      <td>communal standpipe</td>\n",
       "      <td>functional</td>\n",
       "    </tr>\n",
       "    <tr>\n",
       "      <td>1</td>\n",
       "      <td>18014</td>\n",
       "      <td>0.0</td>\n",
       "      <td>2011-02-21</td>\n",
       "      <td>Cdtf</td>\n",
       "      <td>1409</td>\n",
       "      <td>CDTF</td>\n",
       "      <td>34.615481</td>\n",
       "      <td>-9.972601</td>\n",
       "      <td>none</td>\n",
       "      <td>0</td>\n",
       "      <td>...</td>\n",
       "      <td>soft</td>\n",
       "      <td>good</td>\n",
       "      <td>enough</td>\n",
       "      <td>enough</td>\n",
       "      <td>spring</td>\n",
       "      <td>spring</td>\n",
       "      <td>groundwater</td>\n",
       "      <td>communal standpipe</td>\n",
       "      <td>communal standpipe</td>\n",
       "      <td>functional</td>\n",
       "    </tr>\n",
       "    <tr>\n",
       "      <td>2</td>\n",
       "      <td>26103</td>\n",
       "      <td>0.0</td>\n",
       "      <td>2013-01-04</td>\n",
       "      <td>Government Of Tanzania</td>\n",
       "      <td>1572</td>\n",
       "      <td>DWE</td>\n",
       "      <td>36.658778</td>\n",
       "      <td>-3.321529</td>\n",
       "      <td>Kwa Loishiye</td>\n",
       "      <td>0</td>\n",
       "      <td>...</td>\n",
       "      <td>soft</td>\n",
       "      <td>good</td>\n",
       "      <td>insufficient</td>\n",
       "      <td>insufficient</td>\n",
       "      <td>spring</td>\n",
       "      <td>spring</td>\n",
       "      <td>groundwater</td>\n",
       "      <td>communal standpipe</td>\n",
       "      <td>communal standpipe</td>\n",
       "      <td>non functional</td>\n",
       "    </tr>\n",
       "    <tr>\n",
       "      <td>3</td>\n",
       "      <td>31140</td>\n",
       "      <td>0.0</td>\n",
       "      <td>2011-04-03</td>\n",
       "      <td>District Council</td>\n",
       "      <td>0</td>\n",
       "      <td>District Council</td>\n",
       "      <td>33.628025</td>\n",
       "      <td>-8.860795</td>\n",
       "      <td>Mwanzechele</td>\n",
       "      <td>0</td>\n",
       "      <td>...</td>\n",
       "      <td>soft</td>\n",
       "      <td>good</td>\n",
       "      <td>insufficient</td>\n",
       "      <td>insufficient</td>\n",
       "      <td>river</td>\n",
       "      <td>river/lake</td>\n",
       "      <td>surface</td>\n",
       "      <td>communal standpipe</td>\n",
       "      <td>communal standpipe</td>\n",
       "      <td>functional</td>\n",
       "    </tr>\n",
       "    <tr>\n",
       "      <td>4</td>\n",
       "      <td>12286</td>\n",
       "      <td>300.0</td>\n",
       "      <td>2013-03-08</td>\n",
       "      <td>District Council</td>\n",
       "      <td>1283</td>\n",
       "      <td>District Council</td>\n",
       "      <td>37.655509</td>\n",
       "      <td>-3.669777</td>\n",
       "      <td>Kwa Kidaya</td>\n",
       "      <td>0</td>\n",
       "      <td>...</td>\n",
       "      <td>soft</td>\n",
       "      <td>good</td>\n",
       "      <td>insufficient</td>\n",
       "      <td>insufficient</td>\n",
       "      <td>spring</td>\n",
       "      <td>spring</td>\n",
       "      <td>groundwater</td>\n",
       "      <td>communal standpipe</td>\n",
       "      <td>communal standpipe</td>\n",
       "      <td>functional</td>\n",
       "    </tr>\n",
       "  </tbody>\n",
       "</table>\n",
       "<p>5 rows × 41 columns</p>\n",
       "</div>"
      ],
      "text/plain": [
       "      id  amount_tsh date_recorded                  funder  gps_height  \\\n",
       "0   7411         7.0    2013-03-20         Germany Republi        1203   \n",
       "1  18014         0.0    2011-02-21                    Cdtf        1409   \n",
       "2  26103         0.0    2013-01-04  Government Of Tanzania        1572   \n",
       "3  31140         0.0    2011-04-03        District Council           0   \n",
       "4  12286       300.0    2013-03-08        District Council        1283   \n",
       "\n",
       "          installer  longitude  latitude      wpt_name  num_private  ...  \\\n",
       "0               CES  37.228664 -3.256505   Kwa Abdalla            0  ...   \n",
       "1              CDTF  34.615481 -9.972601          none            0  ...   \n",
       "2               DWE  36.658778 -3.321529  Kwa Loishiye            0  ...   \n",
       "3  District Council  33.628025 -8.860795   Mwanzechele            0  ...   \n",
       "4  District Council  37.655509 -3.669777    Kwa Kidaya            0  ...   \n",
       "\n",
       "  water_quality quality_group      quantity  quantity_group  source  \\\n",
       "0          soft          good        enough          enough  spring   \n",
       "1          soft          good        enough          enough  spring   \n",
       "2          soft          good  insufficient    insufficient  spring   \n",
       "3          soft          good  insufficient    insufficient   river   \n",
       "4          soft          good  insufficient    insufficient  spring   \n",
       "\n",
       "  source_type source_class     waterpoint_type waterpoint_type_group  \\\n",
       "0      spring  groundwater  communal standpipe    communal standpipe   \n",
       "1      spring  groundwater  communal standpipe    communal standpipe   \n",
       "2      spring  groundwater  communal standpipe    communal standpipe   \n",
       "3  river/lake      surface  communal standpipe    communal standpipe   \n",
       "4      spring  groundwater  communal standpipe    communal standpipe   \n",
       "\n",
       "     status_group  \n",
       "0      functional  \n",
       "1      functional  \n",
       "2  non functional  \n",
       "3      functional  \n",
       "4      functional  \n",
       "\n",
       "[5 rows x 41 columns]"
      ]
     },
     "execution_count": 6,
     "metadata": {},
     "output_type": "execute_result"
    }
   ],
   "source": [
    "df_train.head()"
   ]
  },
  {
   "cell_type": "code",
   "execution_count": 4,
   "metadata": {
    "colab": {
     "base_uri": "https://localhost:8080/",
     "height": 400
    },
    "id": "jgvVmU9Xlqas",
    "outputId": "6ff9b3cf-0769-4c80-bfe5-26481647faa7"
   },
   "outputs": [
    {
     "data": {
      "text/html": [
       "<div>\n",
       "<style scoped>\n",
       "    .dataframe tbody tr th:only-of-type {\n",
       "        vertical-align: middle;\n",
       "    }\n",
       "\n",
       "    .dataframe tbody tr th {\n",
       "        vertical-align: top;\n",
       "    }\n",
       "\n",
       "    .dataframe thead th {\n",
       "        text-align: right;\n",
       "    }\n",
       "</style>\n",
       "<table border=\"1\" class=\"dataframe\">\n",
       "  <thead>\n",
       "    <tr style=\"text-align: right;\">\n",
       "      <th></th>\n",
       "      <th>Unnamed: 0</th>\n",
       "      <th>id</th>\n",
       "      <th>amount_tsh</th>\n",
       "      <th>date_recorded</th>\n",
       "      <th>funder</th>\n",
       "      <th>gps_height</th>\n",
       "      <th>installer</th>\n",
       "      <th>longitude</th>\n",
       "      <th>latitude</th>\n",
       "      <th>wpt_name</th>\n",
       "      <th>num_private</th>\n",
       "      <th>basin</th>\n",
       "      <th>subvillage</th>\n",
       "      <th>region</th>\n",
       "      <th>region_code</th>\n",
       "      <th>district_code</th>\n",
       "      <th>lga</th>\n",
       "      <th>ward</th>\n",
       "      <th>population</th>\n",
       "      <th>public_meeting</th>\n",
       "      <th>recorded_by</th>\n",
       "      <th>scheme_management</th>\n",
       "      <th>scheme_name</th>\n",
       "      <th>permit</th>\n",
       "      <th>construction_year</th>\n",
       "      <th>extraction_type</th>\n",
       "      <th>extraction_type_group</th>\n",
       "      <th>extraction_type_class</th>\n",
       "      <th>management</th>\n",
       "      <th>management_group</th>\n",
       "      <th>payment</th>\n",
       "      <th>payment_type</th>\n",
       "      <th>water_quality</th>\n",
       "      <th>quality_group</th>\n",
       "      <th>quantity</th>\n",
       "      <th>quantity_group</th>\n",
       "      <th>source</th>\n",
       "      <th>source_type</th>\n",
       "      <th>source_class</th>\n",
       "      <th>waterpoint_type</th>\n",
       "      <th>waterpoint_type_group</th>\n",
       "    </tr>\n",
       "  </thead>\n",
       "  <tbody>\n",
       "    <tr>\n",
       "      <th>14845</th>\n",
       "      <td>14845</td>\n",
       "      <td>45291</td>\n",
       "      <td>1000.0</td>\n",
       "      <td>2011-03-10</td>\n",
       "      <td>Danida</td>\n",
       "      <td>1811</td>\n",
       "      <td>DANID</td>\n",
       "      <td>34.533405</td>\n",
       "      <td>-9.781788</td>\n",
       "      <td>none</td>\n",
       "      <td>0</td>\n",
       "      <td>Lake Nyasa</td>\n",
       "      <td>Ng'Alike</td>\n",
       "      <td>Iringa</td>\n",
       "      <td>11</td>\n",
       "      <td>5</td>\n",
       "      <td>Ludewa</td>\n",
       "      <td>Mlangali</td>\n",
       "      <td>45</td>\n",
       "      <td>True</td>\n",
       "      <td>GeoData Consultants Ltd</td>\n",
       "      <td>VWC</td>\n",
       "      <td>DANIDA</td>\n",
       "      <td>False</td>\n",
       "      <td>1988</td>\n",
       "      <td>gravity</td>\n",
       "      <td>gravity</td>\n",
       "      <td>gravity</td>\n",
       "      <td>vwc</td>\n",
       "      <td>user-group</td>\n",
       "      <td>pay annually</td>\n",
       "      <td>annually</td>\n",
       "      <td>soft</td>\n",
       "      <td>good</td>\n",
       "      <td>seasonal</td>\n",
       "      <td>seasonal</td>\n",
       "      <td>spring</td>\n",
       "      <td>spring</td>\n",
       "      <td>groundwater</td>\n",
       "      <td>communal standpipe</td>\n",
       "      <td>communal standpipe</td>\n",
       "    </tr>\n",
       "    <tr>\n",
       "      <th>14846</th>\n",
       "      <td>14846</td>\n",
       "      <td>54736</td>\n",
       "      <td>0.0</td>\n",
       "      <td>2011-03-18</td>\n",
       "      <td>Solidame</td>\n",
       "      <td>252</td>\n",
       "      <td>SOLIDAME</td>\n",
       "      <td>36.665856</td>\n",
       "      <td>-8.141162</td>\n",
       "      <td>Kwamadenge</td>\n",
       "      <td>0</td>\n",
       "      <td>Rufiji</td>\n",
       "      <td>Magoha</td>\n",
       "      <td>Morogoro</td>\n",
       "      <td>5</td>\n",
       "      <td>3</td>\n",
       "      <td>Kilombero</td>\n",
       "      <td>Lumemo</td>\n",
       "      <td>150</td>\n",
       "      <td>True</td>\n",
       "      <td>GeoData Consultants Ltd</td>\n",
       "      <td>NaN</td>\n",
       "      <td>NaN</td>\n",
       "      <td>True</td>\n",
       "      <td>2010</td>\n",
       "      <td>nira/tanira</td>\n",
       "      <td>nira/tanira</td>\n",
       "      <td>handpump</td>\n",
       "      <td>vwc</td>\n",
       "      <td>user-group</td>\n",
       "      <td>never pay</td>\n",
       "      <td>never pay</td>\n",
       "      <td>soft</td>\n",
       "      <td>good</td>\n",
       "      <td>insufficient</td>\n",
       "      <td>insufficient</td>\n",
       "      <td>shallow well</td>\n",
       "      <td>shallow well</td>\n",
       "      <td>groundwater</td>\n",
       "      <td>hand pump</td>\n",
       "      <td>hand pump</td>\n",
       "    </tr>\n",
       "    <tr>\n",
       "      <th>14847</th>\n",
       "      <td>14847</td>\n",
       "      <td>44238</td>\n",
       "      <td>0.0</td>\n",
       "      <td>2012-11-03</td>\n",
       "      <td>Government Of Tanzania</td>\n",
       "      <td>0</td>\n",
       "      <td>Central government</td>\n",
       "      <td>33.020305</td>\n",
       "      <td>-4.949560</td>\n",
       "      <td>Kwa Mzee Salum Chata</td>\n",
       "      <td>0</td>\n",
       "      <td>Lake Tanganyika</td>\n",
       "      <td>Simbo 2</td>\n",
       "      <td>Tabora</td>\n",
       "      <td>14</td>\n",
       "      <td>3</td>\n",
       "      <td>Uyui</td>\n",
       "      <td>Magiri</td>\n",
       "      <td>0</td>\n",
       "      <td>True</td>\n",
       "      <td>GeoData Consultants Ltd</td>\n",
       "      <td>VWC</td>\n",
       "      <td>Maguri water supply</td>\n",
       "      <td>True</td>\n",
       "      <td>0</td>\n",
       "      <td>other</td>\n",
       "      <td>other</td>\n",
       "      <td>other</td>\n",
       "      <td>vwc</td>\n",
       "      <td>user-group</td>\n",
       "      <td>never pay</td>\n",
       "      <td>never pay</td>\n",
       "      <td>soft</td>\n",
       "      <td>good</td>\n",
       "      <td>dry</td>\n",
       "      <td>dry</td>\n",
       "      <td>spring</td>\n",
       "      <td>spring</td>\n",
       "      <td>groundwater</td>\n",
       "      <td>communal standpipe multiple</td>\n",
       "      <td>communal standpipe</td>\n",
       "    </tr>\n",
       "    <tr>\n",
       "      <th>14848</th>\n",
       "      <td>14848</td>\n",
       "      <td>13229</td>\n",
       "      <td>0.0</td>\n",
       "      <td>2013-01-18</td>\n",
       "      <td>Tassaf I</td>\n",
       "      <td>1294</td>\n",
       "      <td>TASSAF</td>\n",
       "      <td>30.588892</td>\n",
       "      <td>-3.837622</td>\n",
       "      <td>Center</td>\n",
       "      <td>0</td>\n",
       "      <td>Lake Tanganyika</td>\n",
       "      <td>Maendeleo</td>\n",
       "      <td>Kigoma</td>\n",
       "      <td>16</td>\n",
       "      <td>1</td>\n",
       "      <td>Kibondo</td>\n",
       "      <td>Rugongowe</td>\n",
       "      <td>700</td>\n",
       "      <td>True</td>\n",
       "      <td>GeoData Consultants Ltd</td>\n",
       "      <td>VWC</td>\n",
       "      <td>Kichananga gravity water supply</td>\n",
       "      <td>False</td>\n",
       "      <td>2004</td>\n",
       "      <td>gravity</td>\n",
       "      <td>gravity</td>\n",
       "      <td>gravity</td>\n",
       "      <td>vwc</td>\n",
       "      <td>user-group</td>\n",
       "      <td>unknown</td>\n",
       "      <td>unknown</td>\n",
       "      <td>soft</td>\n",
       "      <td>good</td>\n",
       "      <td>enough</td>\n",
       "      <td>enough</td>\n",
       "      <td>spring</td>\n",
       "      <td>spring</td>\n",
       "      <td>groundwater</td>\n",
       "      <td>communal standpipe multiple</td>\n",
       "      <td>communal standpipe</td>\n",
       "    </tr>\n",
       "    <tr>\n",
       "      <th>14849</th>\n",
       "      <td>14849</td>\n",
       "      <td>70800</td>\n",
       "      <td>30.0</td>\n",
       "      <td>2011-02-23</td>\n",
       "      <td>Jaica</td>\n",
       "      <td>60</td>\n",
       "      <td>JAICA</td>\n",
       "      <td>39.330407</td>\n",
       "      <td>-7.039634</td>\n",
       "      <td>Kwa Jokoo</td>\n",
       "      <td>0</td>\n",
       "      <td>Wami / Ruvu</td>\n",
       "      <td>Kwa Jokoo</td>\n",
       "      <td>Pwani</td>\n",
       "      <td>60</td>\n",
       "      <td>43</td>\n",
       "      <td>Mkuranga</td>\n",
       "      <td>Vikindu</td>\n",
       "      <td>1</td>\n",
       "      <td>True</td>\n",
       "      <td>GeoData Consultants Ltd</td>\n",
       "      <td>VWC</td>\n",
       "      <td>Vianzi Water Supply</td>\n",
       "      <td>False</td>\n",
       "      <td>2010</td>\n",
       "      <td>submersible</td>\n",
       "      <td>submersible</td>\n",
       "      <td>submersible</td>\n",
       "      <td>vwc</td>\n",
       "      <td>user-group</td>\n",
       "      <td>pay per bucket</td>\n",
       "      <td>per bucket</td>\n",
       "      <td>soft</td>\n",
       "      <td>good</td>\n",
       "      <td>enough</td>\n",
       "      <td>enough</td>\n",
       "      <td>machine dbh</td>\n",
       "      <td>borehole</td>\n",
       "      <td>groundwater</td>\n",
       "      <td>communal standpipe</td>\n",
       "      <td>communal standpipe</td>\n",
       "    </tr>\n",
       "  </tbody>\n",
       "</table>\n",
       "</div>"
      ],
      "text/plain": [
       "       Unnamed: 0     id  ...              waterpoint_type waterpoint_type_group\n",
       "14845       14845  45291  ...           communal standpipe    communal standpipe\n",
       "14846       14846  54736  ...                    hand pump             hand pump\n",
       "14847       14847  44238  ...  communal standpipe multiple    communal standpipe\n",
       "14848       14848  13229  ...  communal standpipe multiple    communal standpipe\n",
       "14849       14849  70800  ...           communal standpipe    communal standpipe\n",
       "\n",
       "[5 rows x 41 columns]"
      ]
     },
     "execution_count": 4,
     "metadata": {
      "tags": []
     },
     "output_type": "execute_result"
    }
   ],
   "source": [
    "df_test.tail()"
   ]
  },
  {
   "cell_type": "code",
   "execution_count": 3,
   "metadata": {
    "colab": {
     "base_uri": "https://localhost:8080/"
    },
    "id": "pzHk2yR3miki",
    "outputId": "7261a68c-4332-45c6-fd93-0a6b6ba605f6"
   },
   "outputs": [
    {
     "name": "stdout",
     "output_type": "stream",
     "text": [
      "(44550, 41)\n",
      "(14850, 41)\n"
     ]
    }
   ],
   "source": [
    "print(df_train.shape)\n",
    "print(df_test.shape)\n"
   ]
  },
  {
   "cell_type": "code",
   "execution_count": 63,
   "metadata": {
    "colab": {
     "base_uri": "https://localhost:8080/"
    },
    "id": "Mo8EyZlrw2U3",
    "outputId": "0f0507d0-3d84-43d8-b9b4-819544ceecf6"
   },
   "outputs": [
    {
     "name": "stdout",
     "output_type": "stream",
     "text": [
      "|    | column                |   unique values | types   |\n",
      "|---:|:----------------------|----------------:|:--------|\n",
      "|  0 | id                    |           44550 | int64   |\n",
      "|  1 | amount_tsh            |              85 | float64 |\n",
      "|  2 | date_recorded         |             346 | object  |\n",
      "|  3 | funder                |            1652 | object  |\n",
      "|  4 | gps_height            |            2396 | int64   |\n",
      "|  5 | installer             |            1855 | object  |\n",
      "|  6 | longitude             |           43155 | float64 |\n",
      "|  7 | latitude              |           43155 | float64 |\n",
      "|  8 | wpt_name              |           28991 | object  |\n",
      "|  9 | num_private           |              59 | int64   |\n",
      "| 10 | basin                 |               9 | object  |\n",
      "| 11 | subvillage            |           16618 | object  |\n",
      "| 12 | region                |              21 | object  |\n",
      "| 13 | region_code           |              27 | int64   |\n",
      "| 14 | district_code         |              20 | int64   |\n",
      "| 15 | lga                   |             125 | object  |\n",
      "| 16 | ward                  |            2080 | object  |\n",
      "| 17 | population            |             956 | int64   |\n",
      "| 18 | public_meeting        |               3 | object  |\n",
      "| 19 | recorded_by           |               1 | object  |\n",
      "| 20 | scheme_management     |              13 | object  |\n",
      "| 21 | scheme_name           |            2507 | object  |\n",
      "| 22 | permit                |               3 | object  |\n",
      "| 23 | construction_year     |              55 | int64   |\n",
      "| 24 | extraction_type       |              18 | object  |\n",
      "| 25 | extraction_type_group |              13 | object  |\n",
      "| 26 | extraction_type_class |               7 | object  |\n",
      "| 27 | management            |              12 | object  |\n",
      "| 28 | management_group      |               5 | object  |\n",
      "| 29 | payment               |               7 | object  |\n",
      "| 30 | payment_type          |               7 | object  |\n",
      "| 31 | water_quality         |               8 | object  |\n",
      "| 32 | quality_group         |               6 | object  |\n",
      "| 33 | quantity              |               5 | object  |\n",
      "| 34 | quantity_group        |               5 | object  |\n",
      "| 35 | source                |              10 | object  |\n",
      "| 36 | source_type           |               7 | object  |\n",
      "| 37 | source_class          |               3 | object  |\n",
      "| 38 | waterpoint_type       |               7 | object  |\n",
      "| 39 | waterpoint_type_group |               6 | object  |\n",
      "| 40 | status_group          |               3 | object  |\n"
     ]
    }
   ],
   "source": [
    "columns = pd.DataFrame({\n",
    "    \"column\":df_train.columns,\n",
    "    \"unique values\": [len(df_train[i].unique()) for i in df_train.columns],\n",
    "    \"types\": list(df_train.dtypes)\n",
    "})\n",
    "print(columns.to_markdown())"
   ]
  },
  {
   "cell_type": "code",
   "execution_count": 64,
   "metadata": {
    "colab": {
     "base_uri": "https://localhost:8080/"
    },
    "id": "lmAXJgfexGCZ",
    "outputId": "492a9229-13c5-4a00-f67e-b73c7c5130e0"
   },
   "outputs": [
    {
     "name": "stdout",
     "output_type": "stream",
     "text": [
      "|    | column                |   unique values | types   |\n",
      "|---:|:----------------------|----------------:|:--------|\n",
      "|  0 | Unnamed: 0            |           14850 | int64   |\n",
      "|  1 | id                    |           14850 | int64   |\n",
      "|  2 | amount_tsh            |              74 | float64 |\n",
      "|  3 | date_recorded         |             326 | object  |\n",
      "|  4 | funder                |             948 | object  |\n",
      "|  5 | gps_height            |            2128 | int64   |\n",
      "|  6 | installer             |            1085 | object  |\n",
      "|  7 | longitude             |           14390 | float64 |\n",
      "|  8 | latitude              |           14390 | float64 |\n",
      "|  9 | wpt_name              |           10708 | object  |\n",
      "| 10 | num_private           |              38 | int64   |\n",
      "| 11 | basin                 |               9 | object  |\n",
      "| 12 | subvillage            |            8449 | object  |\n",
      "| 13 | region                |              21 | object  |\n",
      "| 14 | region_code           |              26 | int64   |\n",
      "| 15 | district_code         |              19 | int64   |\n",
      "| 16 | lga                   |             124 | object  |\n",
      "| 17 | ward                  |            1942 | object  |\n",
      "| 18 | population            |             631 | int64   |\n",
      "| 19 | public_meeting        |               3 | object  |\n",
      "| 20 | recorded_by           |               1 | object  |\n",
      "| 21 | scheme_management     |              12 | object  |\n",
      "| 22 | scheme_name           |            1729 | object  |\n",
      "| 23 | permit                |               3 | object  |\n",
      "| 24 | construction_year     |              55 | int64   |\n",
      "| 25 | extraction_type       |              17 | object  |\n",
      "| 26 | extraction_type_group |              13 | object  |\n",
      "| 27 | extraction_type_class |               7 | object  |\n",
      "| 28 | management            |              12 | object  |\n",
      "| 29 | management_group      |               5 | object  |\n",
      "| 30 | payment               |               7 | object  |\n",
      "| 31 | payment_type          |               7 | object  |\n",
      "| 32 | water_quality         |               8 | object  |\n",
      "| 33 | quality_group         |               6 | object  |\n",
      "| 34 | quantity              |               5 | object  |\n",
      "| 35 | quantity_group        |               5 | object  |\n",
      "| 36 | source                |              10 | object  |\n",
      "| 37 | source_type           |               7 | object  |\n",
      "| 38 | source_class          |               3 | object  |\n",
      "| 39 | waterpoint_type       |               7 | object  |\n",
      "| 40 | waterpoint_type_group |               6 | object  |\n"
     ]
    }
   ],
   "source": [
    "columns = pd.DataFrame({\n",
    "    \"column\": df_test.columns,\n",
    "    \"unique values\": [len(df_test[i].unique()) for i in df_test.columns],\n",
    "    \"types\": list(df_test.dtypes)\n",
    "})\n",
    "print(columns.to_markdown())"
   ]
  },
  {
   "cell_type": "markdown",
   "metadata": {
    "id": "nt-x2X5-ekCR"
   },
   "source": [
    "## Data visualization\n"
   ]
  },
  {
   "cell_type": "code",
   "execution_count": 9,
   "metadata": {
    "colab": {
     "base_uri": "https://localhost:8080/",
     "height": 401
    },
    "id": "xvL_o9JXeyw4",
    "outputId": "2ba04512-0fe9-4f98-edce-f8bd7b82672f"
   },
   "outputs": [
    {
     "data": {
      "text/plain": [
       "<seaborn.axisgrid.FacetGrid at 0x7f4000303650>"
      ]
     },
     "execution_count": 9,
     "metadata": {
      "tags": []
     },
     "output_type": "execute_result"
    },
    {
     "data": {
      "image/png": "[encoded data removed]",
      "text/plain": [
       "<Figure size 360x360 with 1 Axes>"
      ]
     },
     "metadata": {
      "needs_background": "light",
      "tags": []
     },
     "output_type": "display_data"
    }
   ],
   "source": [
    "#visualizating dependent feature of training set\n",
    "sns.catplot(x=\"status_group\", kind=\"count\", palette=\"ch:.25\", data=df_train)"
   ]
  },
  {
   "cell_type": "code",
   "execution_count": 15,
   "metadata": {
    "colab": {
     "base_uri": "https://localhost:8080/",
     "height": 401
    },
    "id": "jcC_d1WrgCBq",
    "outputId": "33babf0f-9978-4e12-da83-2bb0b6b5d094"
   },
   "outputs": [
    {
     "data": {
      "text/plain": [
       "<seaborn.axisgrid.FacetGrid at 0x7f3ff7648090>"
      ]
     },
     "execution_count": 15,
     "metadata": {
      "tags": []
     },
     "output_type": "execute_result"
    },
    {
     "data": {
      "image/png": "[encoded data removed]",
      "text/plain": [
       "<Figure size 871.875x360 with 1 Axes>"
      ]
     },
     "metadata": {
      "needs_background": "light",
      "tags": []
     },
     "output_type": "display_data"
    }
   ],
   "source": [
    "#visualizating water quality on the basis of status group\n",
    "sns.catplot(x=\"water_quality\", hue=\"status_group\", kind=\"count\",palette=\"pastel\", edgecolor=\".6\",data=df_train,aspect=2)"
   ]
  },
  {
   "cell_type": "markdown",
   "metadata": {
    "id": "pRpVIyS7iPwH"
   },
   "source": [
    "From the plot we can infer that, if the water quality is soft, then there is a high probability that it is in the functional condition"
   ]
  },
  {
   "cell_type": "code",
   "execution_count": 16,
   "metadata": {
    "colab": {
     "base_uri": "https://localhost:8080/",
     "height": 401
    },
    "id": "xxoshriDisjl",
    "outputId": "5fa2865a-18a2-4ead-b313-1247a4fd4f54"
   },
   "outputs": [
    {
     "data": {
      "text/plain": [
       "<seaborn.axisgrid.FacetGrid at 0x7f3ff7648890>"
      ]
     },
     "execution_count": 16,
     "metadata": {
      "tags": []
     },
     "output_type": "execute_result"
    },
    {
     "data": {
      "image/png": "[encoded data removed]",
      "text/plain": [
       "<Figure size 871.875x360 with 1 Axes>"
      ]
     },
     "metadata": {
      "needs_background": "light",
      "tags": []
     },
     "output_type": "display_data"
    }
   ],
   "source": [
    "#visualizating source_class on the basis of status group\n",
    "sns.catplot(x=\"source_class\", hue=\"status_group\", kind=\"count\",palette=\"pastel\", edgecolor=\".6\",data=df_train,aspect=2)"
   ]
  },
  {
   "cell_type": "markdown",
   "metadata": {
    "id": "KTqS9uOGjWHL"
   },
   "source": [
    "From the plot we can infer that, if the source_class is ground water, then there is a high probability that it is in the functional condition"
   ]
  },
  {
   "cell_type": "code",
   "execution_count": 18,
   "metadata": {
    "colab": {
     "base_uri": "https://localhost:8080/",
     "height": 420
    },
    "id": "68UvswOSjjTe",
    "outputId": "37024d8e-e0ba-4938-b5a6-6a5dfc2beaed"
   },
   "outputs": [
    {
     "data": {
      "text/plain": [
       "<seaborn.axisgrid.FacetGrid at 0x7f3ff75b7e10>"
      ]
     },
     "execution_count": 18,
     "metadata": {
      "tags": []
     },
     "output_type": "execute_result"
    },
    {
     "data": {
      "image/png": "[encoded data removed]",
      "text/plain": [
       "<Figure size 1411.88x360 with 1 Axes>"
      ]
     },
     "metadata": {
      "needs_background": "light",
      "tags": []
     },
     "output_type": "display_data"
    }
   ],
   "source": [
    "#visualizating region on the basis of status group\n",
    "sns.catplot(x=\"region\", hue=\"status_group\", kind=\"count\",palette=\"pastel\", edgecolor=\".6\",data=df_train,aspect=3.5)"
   ]
  },
  {
   "cell_type": "markdown",
   "metadata": {
    "id": "FIXfgKzllJdP"
   },
   "source": [
    "From the plot we can see that, there are some regions where there is a high probability that pump is in the functional condition."
   ]
  },
  {
   "cell_type": "code",
   "execution_count": 32,
   "metadata": {
    "colab": {
     "base_uri": "https://localhost:8080/",
     "height": 406
    },
    "id": "yrDVvu0YlIJX",
    "outputId": "0ace980d-d77f-4e39-f375-7c6af56d0efd"
   },
   "outputs": [
    {
     "data": {
      "text/plain": [
       "<seaborn.axisgrid.FacetGrid at 0x7f3ff3642850>"
      ]
     },
     "execution_count": 32,
     "metadata": {
      "tags": []
     },
     "output_type": "execute_result"
    },
    {
     "data": {
      "image/png": "[encoded data removed]",
      "text/plain": [
       "<Figure size 1231.88x360 with 1 Axes>"
      ]
     },
     "metadata": {
      "needs_background": "light",
      "tags": []
     },
     "output_type": "display_data"
    }
   ],
   "source": [
    "#visualizating population on the basis of status group\n",
    "sns.displot(df_train, x=\"population\", hue=\"status_group\", kind=\"kde\",aspect=3,fill=True)"
   ]
  },
  {
   "cell_type": "markdown",
   "metadata": {
    "id": "NryRJvhInXO4"
   },
   "source": [
    "With population, functional group increases."
   ]
  },
  {
   "cell_type": "code",
   "execution_count": 26,
   "metadata": {
    "colab": {
     "base_uri": "https://localhost:8080/",
     "height": 280
    },
    "id": "ZWxoyoaanjKG",
    "outputId": "4ee89f70-0503-4c8b-b65e-d8fac1c50f24"
   },
   "outputs": [
    {
     "data": {
      "text/plain": [
       "<seaborn.axisgrid.FacetGrid at 0x7f3ff3805990>"
      ]
     },
     "execution_count": 26,
     "metadata": {
      "tags": []
     },
     "output_type": "execute_result"
    },
    {
     "data": {
      "image/png": "[encoded data removed]",
      "text/plain": [
       "<Figure size 1591.88x360 with 1 Axes>"
      ]
     },
     "metadata": {
      "needs_background": "light",
      "tags": []
     },
     "output_type": "display_data"
    }
   ],
   "source": [
    "#visualizating latitude on the basis of status group\n",
    "sns.displot(df_train, x=\"latitude\", hue=\"status_group\", kind=\"kde\",aspect=4,fill=True)"
   ]
  },
  {
   "cell_type": "code",
   "execution_count": 28,
   "metadata": {
    "colab": {
     "base_uri": "https://localhost:8080/",
     "height": 280
    },
    "id": "Tqk4_S5Bn3sO",
    "outputId": "d34a6c2b-2d96-4216-a61c-3cb07a907aaa"
   },
   "outputs": [
    {
     "data": {
      "text/plain": [
       "<seaborn.axisgrid.FacetGrid at 0x7f3ff37b10d0>"
      ]
     },
     "execution_count": 28,
     "metadata": {
      "tags": []
     },
     "output_type": "execute_result"
    },
    {
     "data": {
      "image/png": "[encoded data removed]",
      "text/plain": [
       "<Figure size 1591.88x360 with 1 Axes>"
      ]
     },
     "metadata": {
      "needs_background": "light",
      "tags": []
     },
     "output_type": "display_data"
    }
   ],
   "source": [
    "#visualizating longitute on the basis of status group\n",
    "sns.displot(df_train, x=\"longitude\", hue=\"status_group\", kind=\"kde\",aspect=4,fill=True)"
   ]
  },
  {
   "cell_type": "code",
   "execution_count": 30,
   "metadata": {
    "colab": {
     "base_uri": "https://localhost:8080/",
     "height": 280
    },
    "id": "zz99J8_an34N",
    "outputId": "6d8a4c54-09ec-42ae-a501-fcf2043e35bf"
   },
   "outputs": [
    {
     "data": {
      "text/plain": [
       "<seaborn.axisgrid.FacetGrid at 0x7f3ff36d0cd0>"
      ]
     },
     "execution_count": 30,
     "metadata": {
      "tags": []
     },
     "output_type": "execute_result"
    },
    {
     "data": {
      "image/png": "[encoded data removed]",
      "text/plain": [
       "<Figure size 1591.88x360 with 1 Axes>"
      ]
     },
     "metadata": {
      "needs_background": "light",
      "tags": []
     },
     "output_type": "display_data"
    }
   ],
   "source": [
    "#visualizating gps_height on the basis of status group\n",
    "sns.displot(df_train, x=\"gps_height\", hue=\"status_group\", kind=\"kde\",aspect=4,fill=True)"
   ]
  },
  {
   "cell_type": "code",
   "execution_count": 31,
   "metadata": {
    "colab": {
     "base_uri": "https://localhost:8080/",
     "height": 406
    },
    "id": "PzmPIxTCoTcH",
    "outputId": "bfd2c0c5-55f0-4932-a2e5-090877cf30d1"
   },
   "outputs": [
    {
     "data": {
      "text/plain": [
       "<seaborn.axisgrid.FacetGrid at 0x7f3ff364d050>"
      ]
     },
     "execution_count": 31,
     "metadata": {
      "tags": []
     },
     "output_type": "execute_result"
    },
    {
     "data": {
      "image/png": "[encoded data removed]",
      "text/plain": [
       "<Figure size 1591.88x360 with 1 Axes>"
      ]
     },
     "metadata": {
      "needs_background": "light",
      "tags": []
     },
     "output_type": "display_data"
    }
   ],
   "source": [
    "#visualizating construction_year on the basis of status group\n",
    "sns.displot(df_train, x=\"construction_year\", hue=\"status_group\", kind=\"kde\",aspect=4,fill=True)"
   ]
  },
  {
   "cell_type": "code",
   "execution_count": null,
   "metadata": {
    "id": "qgh5R8GlqXhe"
   },
   "outputs": [],
   "source": []
  },
  {
   "cell_type": "markdown",
   "metadata": {
    "id": "6olEmr-CqX04"
   },
   "source": [
    "# Feature engineering-1"
   ]
  },
  {
   "cell_type": "code",
   "execution_count": 4,
   "metadata": {
    "id": "gV1XEalApmwS"
   },
   "outputs": [],
   "source": [
    "#Adding a new feature \"AGE of the pump\"\n",
    "df_train['construction_year']=df_train['construction_year'].replace({0:1993})\n",
    "df_train['age']=pd.DatetimeIndex(df_train['date_recorded']).year.astype(int)-df_train['construction_year']\n"
   ]
  },
  {
   "cell_type": "code",
   "execution_count": 251,
   "metadata": {
    "colab": {
     "base_uri": "https://localhost:8080/"
    },
    "id": "eJ4SNQK8rEgX",
    "outputId": "fa4dccca-a55a-4eb2-e02f-7a11e6001958"
   },
   "outputs": [
    {
     "data": {
      "text/plain": [
       "source                source_type           source_class\n",
       "dam                   dam                   surface           489\n",
       "hand dtw              borehole              groundwater       652\n",
       "lake                  river/lake            surface           544\n",
       "machine dbh           borehole              groundwater      8282\n",
       "other                 other                 unknown           156\n",
       "rainwater harvesting  rainwater harvesting  surface          1739\n",
       "river                 river/lake            surface          7135\n",
       "shallow well          shallow well          groundwater     12618\n",
       "spring                spring                groundwater     12889\n",
       "unknown               other                 unknown            46\n",
       "dtype: int64"
      ]
     },
     "execution_count": 251,
     "metadata": {},
     "output_type": "execute_result"
    }
   ],
   "source": [
    "#finding similar features column\n",
    "df_train.groupby(['source','source_type','source_class']).size()\n"
   ]
  },
  {
   "cell_type": "code",
   "execution_count": 239,
   "metadata": {
    "colab": {
     "base_uri": "https://localhost:8080/"
    },
    "id": "2HmZ9LEmwd_R",
    "outputId": "310ad264-d3e9-4e5f-9d44-924e8dbfc15c"
   },
   "outputs": [
    {
     "data": {
      "text/plain": [
       "extraction_type            extraction_type_group  extraction_type_class\n",
       "afridev                    afridev                handpump                  1339\n",
       "cemo                       other motorpump        motorpump                   70\n",
       "climax                     other motorpump        motorpump                   26\n",
       "gravity                    gravity                gravity                  20127\n",
       "india mark ii              india mark ii          handpump                  1768\n",
       "india mark iii             india mark iii         handpump                    77\n",
       "ksb                        submersible            submersible               1043\n",
       "mono                       mono                   motorpump                 2164\n",
       "nira/tanira                nira/tanira            handpump                  6130\n",
       "other                      other                  other                     4768\n",
       "other - mkulima/shinyanga  other handpump         handpump                     2\n",
       "other - play pump          other handpump         handpump                    65\n",
       "other - rope pump          rope pump              rope pump                  335\n",
       "other - swn 81             other handpump         handpump                   177\n",
       "submersible                submersible            submersible               3560\n",
       "swn 80                     swn 80                 handpump                  2771\n",
       "walimi                     other handpump         handpump                    39\n",
       "windmill                   wind-powered           wind-powered                89\n",
       "dtype: int64"
      ]
     },
     "execution_count": 239,
     "metadata": {},
     "output_type": "execute_result"
    }
   ],
   "source": [
    "#finding similar features column\n",
    "df_train.groupby(['extraction_type','extraction_type_group','extraction_type_class']).size()"
   ]
  },
  {
   "cell_type": "code",
   "execution_count": 240,
   "metadata": {
    "colab": {
     "base_uri": "https://localhost:8080/"
    },
    "id": "1D7bK3KTyH8I",
    "outputId": "ce81b5fa-bcf4-4aa0-aa18-22ed012abbc9"
   },
   "outputs": [
    {
     "data": {
      "text/plain": [
       "payment                payment_type\n",
       "never pay              never pay       19002\n",
       "other                  other             796\n",
       "pay annually           annually         2717\n",
       "pay monthly            monthly          6182\n",
       "pay per bucket         per bucket       6808\n",
       "pay when scheme fails  on failure       2941\n",
       "unknown                unknown          6104\n",
       "dtype: int64"
      ]
     },
     "execution_count": 240,
     "metadata": {},
     "output_type": "execute_result"
    }
   ],
   "source": [
    "#finding similar features column\n",
    "df_train.groupby(['payment','payment_type']).size()"
   ]
  },
  {
   "cell_type": "code",
   "execution_count": 241,
   "metadata": {
    "colab": {
     "base_uri": "https://localhost:8080/"
    },
    "id": "du28MwE38fb7",
    "outputId": "f5bcf720-0b0a-4a41-9078-6623caeda9d9"
   },
   "outputs": [
    {
     "data": {
      "text/plain": [
       "quantity      quantity_group\n",
       "dry           dry                4725\n",
       "enough        enough            24821\n",
       "insufficient  insufficient      11367\n",
       "seasonal      seasonal           3049\n",
       "unknown       unknown             588\n",
       "dtype: int64"
      ]
     },
     "execution_count": 241,
     "metadata": {},
     "output_type": "execute_result"
    }
   ],
   "source": [
    "#finding similar features column\n",
    "df_train.groupby(['quantity','quantity_group']).size()"
   ]
  },
  {
   "cell_type": "code",
   "execution_count": 242,
   "metadata": {
    "colab": {
     "base_uri": "https://localhost:8080/"
    },
    "id": "AtvqMXVt81vU",
    "outputId": "2033990d-5f3d-4882-f8f4-a7adab52f4ae"
   },
   "outputs": [
    {
     "data": {
      "text/plain": [
       "waterpoint_type              waterpoint_type_group\n",
       "cattle trough                cattle trough               90\n",
       "communal standpipe           communal standpipe       21452\n",
       "communal standpipe multiple  communal standpipe        4558\n",
       "dam                          dam                          5\n",
       "hand pump                    hand pump                13116\n",
       "improved spring              improved spring            590\n",
       "other                        other                     4739\n",
       "dtype: int64"
      ]
     },
     "execution_count": 242,
     "metadata": {},
     "output_type": "execute_result"
    }
   ],
   "source": [
    "#finding similar features column\n",
    "df_train.groupby(['waterpoint_type','waterpoint_type_group']).size()"
   ]
  },
  {
   "cell_type": "markdown",
   "metadata": {
    "id": "4PmxAkrP-Esl"
   },
   "source": [
    "There is a similarity between features, so we can keep one feature and drop rest of the features as dropping similar features would not affect our model.        "
   ]
  },
  {
   "cell_type": "code",
   "execution_count": 5,
   "metadata": {
    "id": "ZLuVpNhasJRg"
   },
   "outputs": [],
   "source": [
    "#dropping id and data_recorded column\n",
    "df_train=df_train.drop(['id','date_recorded'],1)\n"
   ]
  },
  {
   "cell_type": "code",
   "execution_count": 6,
   "metadata": {
    "id": "iQHhZuPDCklV"
   },
   "outputs": [],
   "source": [
    "#dropping similar features\n",
    "df_train=df_train.drop(['source_type','source','extraction_type_group','extraction_type_class','payment_type','quantity_group','waterpoint_type_group'],1)\n"
   ]
  },
  {
   "cell_type": "code",
   "execution_count": 7,
   "metadata": {
    "id": "kEorR7A7EgXF"
   },
   "outputs": [],
   "source": [
    "#dropping public meeting, permit features,ward etc. would not effect our model much\n",
    "df_train=df_train.drop(['public_meeting','permit','ward','subvillage','recorded_by','district_code','num_private','wpt_name','scheme_name','construction_year','management_group'],1)"
   ]
  },
  {
   "cell_type": "code",
   "execution_count": 8,
   "metadata": {
    "colab": {
     "base_uri": "https://localhost:8080/"
    },
    "id": "jac-DFJ2QCQR",
    "outputId": "f7ea3894-1203-4141-e7e1-c37e2f312fd3"
   },
   "outputs": [
    {
     "name": "stdout",
     "output_type": "stream",
     "text": [
      "(44550, 22)\n"
     ]
    }
   ],
   "source": [
    "print(df_train.shape)\n"
   ]
  },
  {
   "cell_type": "code",
   "execution_count": 9,
   "metadata": {
    "colab": {
     "base_uri": "https://localhost:8080/",
     "height": 698
    },
    "id": "GuvEuCFAn0M5",
    "outputId": "39356e80-346c-463d-b51f-673d51db0b69"
   },
   "outputs": [
    {
     "data": {
      "text/html": [
       "<div>\n",
       "<style scoped>\n",
       "    .dataframe tbody tr th:only-of-type {\n",
       "        vertical-align: middle;\n",
       "    }\n",
       "\n",
       "    .dataframe tbody tr th {\n",
       "        vertical-align: top;\n",
       "    }\n",
       "\n",
       "    .dataframe thead th {\n",
       "        text-align: right;\n",
       "    }\n",
       "</style>\n",
       "<table border=\"1\" class=\"dataframe\">\n",
       "  <thead>\n",
       "    <tr style=\"text-align: right;\">\n",
       "      <th></th>\n",
       "      <th>total_null_values</th>\n",
       "      <th>percent_null_values</th>\n",
       "    </tr>\n",
       "  </thead>\n",
       "  <tbody>\n",
       "    <tr>\n",
       "      <td>scheme_management</td>\n",
       "      <td>2832</td>\n",
       "      <td>0.063569</td>\n",
       "    </tr>\n",
       "    <tr>\n",
       "      <td>installer</td>\n",
       "      <td>2807</td>\n",
       "      <td>0.063008</td>\n",
       "    </tr>\n",
       "    <tr>\n",
       "      <td>funder</td>\n",
       "      <td>2793</td>\n",
       "      <td>0.062694</td>\n",
       "    </tr>\n",
       "    <tr>\n",
       "      <td>age</td>\n",
       "      <td>0</td>\n",
       "      <td>0.000000</td>\n",
       "    </tr>\n",
       "    <tr>\n",
       "      <td>lga</td>\n",
       "      <td>0</td>\n",
       "      <td>0.000000</td>\n",
       "    </tr>\n",
       "    <tr>\n",
       "      <td>gps_height</td>\n",
       "      <td>0</td>\n",
       "      <td>0.000000</td>\n",
       "    </tr>\n",
       "    <tr>\n",
       "      <td>longitude</td>\n",
       "      <td>0</td>\n",
       "      <td>0.000000</td>\n",
       "    </tr>\n",
       "    <tr>\n",
       "      <td>latitude</td>\n",
       "      <td>0</td>\n",
       "      <td>0.000000</td>\n",
       "    </tr>\n",
       "    <tr>\n",
       "      <td>basin</td>\n",
       "      <td>0</td>\n",
       "      <td>0.000000</td>\n",
       "    </tr>\n",
       "    <tr>\n",
       "      <td>region</td>\n",
       "      <td>0</td>\n",
       "      <td>0.000000</td>\n",
       "    </tr>\n",
       "    <tr>\n",
       "      <td>region_code</td>\n",
       "      <td>0</td>\n",
       "      <td>0.000000</td>\n",
       "    </tr>\n",
       "    <tr>\n",
       "      <td>population</td>\n",
       "      <td>0</td>\n",
       "      <td>0.000000</td>\n",
       "    </tr>\n",
       "    <tr>\n",
       "      <td>status_group</td>\n",
       "      <td>0</td>\n",
       "      <td>0.000000</td>\n",
       "    </tr>\n",
       "    <tr>\n",
       "      <td>extraction_type</td>\n",
       "      <td>0</td>\n",
       "      <td>0.000000</td>\n",
       "    </tr>\n",
       "    <tr>\n",
       "      <td>management</td>\n",
       "      <td>0</td>\n",
       "      <td>0.000000</td>\n",
       "    </tr>\n",
       "    <tr>\n",
       "      <td>payment</td>\n",
       "      <td>0</td>\n",
       "      <td>0.000000</td>\n",
       "    </tr>\n",
       "    <tr>\n",
       "      <td>water_quality</td>\n",
       "      <td>0</td>\n",
       "      <td>0.000000</td>\n",
       "    </tr>\n",
       "    <tr>\n",
       "      <td>quality_group</td>\n",
       "      <td>0</td>\n",
       "      <td>0.000000</td>\n",
       "    </tr>\n",
       "    <tr>\n",
       "      <td>quantity</td>\n",
       "      <td>0</td>\n",
       "      <td>0.000000</td>\n",
       "    </tr>\n",
       "    <tr>\n",
       "      <td>source_class</td>\n",
       "      <td>0</td>\n",
       "      <td>0.000000</td>\n",
       "    </tr>\n",
       "    <tr>\n",
       "      <td>waterpoint_type</td>\n",
       "      <td>0</td>\n",
       "      <td>0.000000</td>\n",
       "    </tr>\n",
       "    <tr>\n",
       "      <td>amount_tsh</td>\n",
       "      <td>0</td>\n",
       "      <td>0.000000</td>\n",
       "    </tr>\n",
       "  </tbody>\n",
       "</table>\n",
       "</div>"
      ],
      "text/plain": [
       "                   total_null_values  percent_null_values\n",
       "scheme_management               2832             0.063569\n",
       "installer                       2807             0.063008\n",
       "funder                          2793             0.062694\n",
       "age                                0             0.000000\n",
       "lga                                0             0.000000\n",
       "gps_height                         0             0.000000\n",
       "longitude                          0             0.000000\n",
       "latitude                           0             0.000000\n",
       "basin                              0             0.000000\n",
       "region                             0             0.000000\n",
       "region_code                        0             0.000000\n",
       "population                         0             0.000000\n",
       "status_group                       0             0.000000\n",
       "extraction_type                    0             0.000000\n",
       "management                         0             0.000000\n",
       "payment                            0             0.000000\n",
       "water_quality                      0             0.000000\n",
       "quality_group                      0             0.000000\n",
       "quantity                           0             0.000000\n",
       "source_class                       0             0.000000\n",
       "waterpoint_type                    0             0.000000\n",
       "amount_tsh                         0             0.000000"
      ]
     },
     "execution_count": 9,
     "metadata": {},
     "output_type": "execute_result"
    }
   ],
   "source": [
    "#handling missing values of training set\n",
    "total_null_values=df_train.isnull().sum().sort_values(ascending=False)\n",
    "percent_null_values=(df_train.isnull().sum()/df_train.isnull().count()).sort_values(ascending=False)\n",
    "totaldf_train=pd.concat([total_null_values,percent_null_values],1,keys=['total_null_values','percent_null_values'])\n",
    "totaldf_train"
   ]
  },
  {
   "cell_type": "code",
   "execution_count": 10,
   "metadata": {
    "id": "tseNy7A2HBdF"
   },
   "outputs": [],
   "source": [
    "#filling null_values with mode as data_type of the columns having null_values is categorical\n",
    "for column in ['scheme_management', 'installer', 'funder']:\n",
    "    df_train[column].fillna(df_train[column].mode()[0], inplace=True)\n"
   ]
  },
  {
   "cell_type": "code",
   "execution_count": 11,
   "metadata": {
    "id": "TIx-zle1cYZV"
   },
   "outputs": [],
   "source": [
    "#handling low frequency levels in 'funder' and 'installer'\n",
    "#converting those that occur 80 times or less and set to 'other'\n",
    "low_freq=['funder','installer']\n",
    "df_train = df_train.apply(lambda x: x.mask(x.map(x.value_counts())<80, 'other') if x.name in low_freq else x)\n",
    "\n"
   ]
  },
  {
   "cell_type": "code",
   "execution_count": 12,
   "metadata": {
    "id": "uNXqQzKUKgA3"
   },
   "outputs": [],
   "source": [
    "#encoding categorical variable\n",
    "column=['installer','funder','basin','region','lga','scheme_management','extraction_type','management','payment','water_quality','quality_group','quantity','source_class','waterpoint_type']\n",
    "for col in column:\n",
    "    df_train[col]=pd.factorize(df_train[col])[0]\n",
    "for col in column:\n",
    "    df_test[col]=pd.factorize(df_test[col])[0]  \n"
   ]
  },
  {
   "cell_type": "code",
   "execution_count": 13,
   "metadata": {
    "colab": {
     "base_uri": "https://localhost:8080/"
    },
    "id": "FuVPEQLeWYUV",
    "outputId": "43cd4ac9-4458-4b96-c20d-5b15a2ffe6a6"
   },
   "outputs": [
    {
     "name": "stdout",
     "output_type": "stream",
     "text": [
      "The column 'amount_tsh' has range 0.0 to 170000.0\n",
      "The column 'funder' has range 0 to 84\n",
      "The column 'gps_height' has range -90 to 2770\n",
      "The column 'installer' has range 0 to 78\n",
      "The column 'longitude' has range 0.0 to 40.34519307\n",
      "The column 'latitude' has range -11.64837759 to -2e-08\n",
      "The column 'basin' has range 0 to 8\n",
      "The column 'region' has range 0 to 20\n",
      "The column 'region_code' has range 1 to 99\n",
      "The column 'lga' has range 0 to 124\n",
      "The column 'population' has range 0 to 30500\n",
      "The column 'scheme_management' has range 0 to 11\n",
      "The column 'extraction_type' has range 0 to 17\n",
      "The column 'management' has range 0 to 11\n",
      "The column 'payment' has range 0 to 6\n",
      "The column 'water_quality' has range 0 to 7\n",
      "The column 'quality_group' has range 0 to 5\n",
      "The column 'quantity' has range 0 to 4\n",
      "The column 'source_class' has range 0 to 2\n",
      "The column 'waterpoint_type' has range 0 to 6\n",
      "The column 'status_group' has range functional to non functional\n",
      "The column 'age' has range -7 to 53\n"
     ]
    }
   ],
   "source": [
    "#max and min values of each feature columns in training set\n",
    "for col in df_train.columns.values: \n",
    "    unique_entries = pd.unique(df_train[col])\n",
    "    print(f\"The column '{col}' has range {unique_entries.min()} to {unique_entries.max()}\")\n",
    " "
   ]
  },
  {
   "cell_type": "code",
   "execution_count": 14,
   "metadata": {
    "colab": {
     "base_uri": "https://localhost:8080/",
     "height": 215
    },
    "id": "acUWQ3a9q3gS",
    "outputId": "7c5d403e-737a-45c6-f6ca-482fe0434bd6"
   },
   "outputs": [
    {
     "data": {
      "text/html": [
       "<div>\n",
       "<style scoped>\n",
       "    .dataframe tbody tr th:only-of-type {\n",
       "        vertical-align: middle;\n",
       "    }\n",
       "\n",
       "    .dataframe tbody tr th {\n",
       "        vertical-align: top;\n",
       "    }\n",
       "\n",
       "    .dataframe thead th {\n",
       "        text-align: right;\n",
       "    }\n",
       "</style>\n",
       "<table border=\"1\" class=\"dataframe\">\n",
       "  <thead>\n",
       "    <tr style=\"text-align: right;\">\n",
       "      <th></th>\n",
       "      <th>amount_tsh</th>\n",
       "      <th>funder</th>\n",
       "      <th>gps_height</th>\n",
       "      <th>installer</th>\n",
       "      <th>longitude</th>\n",
       "      <th>latitude</th>\n",
       "      <th>basin</th>\n",
       "      <th>region</th>\n",
       "      <th>region_code</th>\n",
       "      <th>lga</th>\n",
       "      <th>...</th>\n",
       "      <th>extraction_type</th>\n",
       "      <th>management</th>\n",
       "      <th>payment</th>\n",
       "      <th>water_quality</th>\n",
       "      <th>quality_group</th>\n",
       "      <th>quantity</th>\n",
       "      <th>source_class</th>\n",
       "      <th>waterpoint_type</th>\n",
       "      <th>status_group</th>\n",
       "      <th>age</th>\n",
       "    </tr>\n",
       "  </thead>\n",
       "  <tbody>\n",
       "    <tr>\n",
       "      <td>0</td>\n",
       "      <td>7.0</td>\n",
       "      <td>0</td>\n",
       "      <td>1203</td>\n",
       "      <td>0</td>\n",
       "      <td>37.228664</td>\n",
       "      <td>-3.256505</td>\n",
       "      <td>0</td>\n",
       "      <td>0</td>\n",
       "      <td>3</td>\n",
       "      <td>0</td>\n",
       "      <td>...</td>\n",
       "      <td>0</td>\n",
       "      <td>0</td>\n",
       "      <td>0</td>\n",
       "      <td>0</td>\n",
       "      <td>0</td>\n",
       "      <td>0</td>\n",
       "      <td>0</td>\n",
       "      <td>0</td>\n",
       "      <td>functional</td>\n",
       "      <td>5</td>\n",
       "    </tr>\n",
       "    <tr>\n",
       "      <td>1</td>\n",
       "      <td>0.0</td>\n",
       "      <td>1</td>\n",
       "      <td>1409</td>\n",
       "      <td>1</td>\n",
       "      <td>34.615481</td>\n",
       "      <td>-9.972601</td>\n",
       "      <td>1</td>\n",
       "      <td>1</td>\n",
       "      <td>11</td>\n",
       "      <td>1</td>\n",
       "      <td>...</td>\n",
       "      <td>0</td>\n",
       "      <td>1</td>\n",
       "      <td>1</td>\n",
       "      <td>0</td>\n",
       "      <td>0</td>\n",
       "      <td>0</td>\n",
       "      <td>0</td>\n",
       "      <td>0</td>\n",
       "      <td>functional</td>\n",
       "      <td>27</td>\n",
       "    </tr>\n",
       "    <tr>\n",
       "      <td>2</td>\n",
       "      <td>0.0</td>\n",
       "      <td>2</td>\n",
       "      <td>1572</td>\n",
       "      <td>2</td>\n",
       "      <td>36.658778</td>\n",
       "      <td>-3.321529</td>\n",
       "      <td>0</td>\n",
       "      <td>2</td>\n",
       "      <td>2</td>\n",
       "      <td>2</td>\n",
       "      <td>...</td>\n",
       "      <td>0</td>\n",
       "      <td>2</td>\n",
       "      <td>1</td>\n",
       "      <td>0</td>\n",
       "      <td>0</td>\n",
       "      <td>1</td>\n",
       "      <td>0</td>\n",
       "      <td>0</td>\n",
       "      <td>non functional</td>\n",
       "      <td>11</td>\n",
       "    </tr>\n",
       "    <tr>\n",
       "      <td>3</td>\n",
       "      <td>0.0</td>\n",
       "      <td>3</td>\n",
       "      <td>0</td>\n",
       "      <td>3</td>\n",
       "      <td>33.628025</td>\n",
       "      <td>-8.860795</td>\n",
       "      <td>2</td>\n",
       "      <td>3</td>\n",
       "      <td>12</td>\n",
       "      <td>3</td>\n",
       "      <td>...</td>\n",
       "      <td>0</td>\n",
       "      <td>3</td>\n",
       "      <td>2</td>\n",
       "      <td>0</td>\n",
       "      <td>0</td>\n",
       "      <td>1</td>\n",
       "      <td>1</td>\n",
       "      <td>0</td>\n",
       "      <td>functional</td>\n",
       "      <td>18</td>\n",
       "    </tr>\n",
       "    <tr>\n",
       "      <td>4</td>\n",
       "      <td>300.0</td>\n",
       "      <td>3</td>\n",
       "      <td>1283</td>\n",
       "      <td>3</td>\n",
       "      <td>37.655509</td>\n",
       "      <td>-3.669777</td>\n",
       "      <td>0</td>\n",
       "      <td>0</td>\n",
       "      <td>3</td>\n",
       "      <td>4</td>\n",
       "      <td>...</td>\n",
       "      <td>0</td>\n",
       "      <td>2</td>\n",
       "      <td>3</td>\n",
       "      <td>0</td>\n",
       "      <td>0</td>\n",
       "      <td>1</td>\n",
       "      <td>0</td>\n",
       "      <td>0</td>\n",
       "      <td>functional</td>\n",
       "      <td>6</td>\n",
       "    </tr>\n",
       "  </tbody>\n",
       "</table>\n",
       "<p>5 rows × 22 columns</p>\n",
       "</div>"
      ],
      "text/plain": [
       "   amount_tsh  funder  gps_height  installer  longitude  latitude  basin  \\\n",
       "0         7.0       0        1203          0  37.228664 -3.256505      0   \n",
       "1         0.0       1        1409          1  34.615481 -9.972601      1   \n",
       "2         0.0       2        1572          2  36.658778 -3.321529      0   \n",
       "3         0.0       3           0          3  33.628025 -8.860795      2   \n",
       "4       300.0       3        1283          3  37.655509 -3.669777      0   \n",
       "\n",
       "   region  region_code  lga  ...  extraction_type  management  payment  \\\n",
       "0       0            3    0  ...                0           0        0   \n",
       "1       1           11    1  ...                0           1        1   \n",
       "2       2            2    2  ...                0           2        1   \n",
       "3       3           12    3  ...                0           3        2   \n",
       "4       0            3    4  ...                0           2        3   \n",
       "\n",
       "   water_quality  quality_group  quantity  source_class  waterpoint_type  \\\n",
       "0              0              0         0             0                0   \n",
       "1              0              0         0             0                0   \n",
       "2              0              0         1             0                0   \n",
       "3              0              0         1             1                0   \n",
       "4              0              0         1             0                0   \n",
       "\n",
       "     status_group  age  \n",
       "0      functional    5  \n",
       "1      functional   27  \n",
       "2  non functional   11  \n",
       "3      functional   18  \n",
       "4      functional    6  \n",
       "\n",
       "[5 rows x 22 columns]"
      ]
     },
     "execution_count": 14,
     "metadata": {},
     "output_type": "execute_result"
    }
   ],
   "source": [
    "df_train.head()"
   ]
  },
  {
   "cell_type": "markdown",
   "metadata": {
    "id": "FzI69EMSspuD"
   },
   "source": [
    "# Spliting the training set"
   ]
  },
  {
   "cell_type": "code",
   "execution_count": 15,
   "metadata": {
    "id": "kNbM_NI7vvUC"
   },
   "outputs": [],
   "source": [
    "x_train=df_train.drop(['status_group'],1)\n",
    "y_train=df_train['status_group']"
   ]
  },
  {
   "cell_type": "code",
   "execution_count": 16,
   "metadata": {
    "colab": {
     "base_uri": "https://localhost:8080/"
    },
    "id": "6QqsYGD0t6pi",
    "outputId": "af75aea6-c876-4412-f6fd-a2875f138d4c"
   },
   "outputs": [
    {
     "name": "stdout",
     "output_type": "stream",
     "text": [
      "functional                 24194\n",
      "non functional             17118\n",
      "functional needs repair     3238\n",
      "Name: status_group, dtype: int64\n",
      "1    24194\n",
      "2    17118\n",
      "3     3238\n",
      "Name: status_group, dtype: int64\n"
     ]
    }
   ],
   "source": [
    "#encoding dependent feature\n",
    "print(y_train.value_counts())\n",
    "#mapping each unquie value of dependent feature to numeric value\n",
    "y_train=y_train.map({'functional':1,'non functional':2,'functional needs repair':3})\n",
    "print(y_train.value_counts())"
   ]
  },
  {
   "cell_type": "markdown",
   "metadata": {},
   "source": [
    "We can see the dataset is imbalanced. So to avoid overtraining model on 1 feature over another feature, we will balance our dataset before trainng."
   ]
  },
  {
   "cell_type": "markdown",
   "metadata": {},
   "source": [
    "#### Handling imbalanced Dataset"
   ]
  },
  {
   "cell_type": "code",
   "execution_count": 17,
   "metadata": {},
   "outputs": [],
   "source": [
    "from imblearn.over_sampling import RandomOverSampler\n",
    "ros=RandomOverSampler(random_state=0)\n",
    "x_train,y_train=ros.fit_resample(x_train,y_train)"
   ]
  },
  {
   "cell_type": "code",
   "execution_count": 18,
   "metadata": {},
   "outputs": [
    {
     "name": "stdout",
     "output_type": "stream",
     "text": [
      "3    24194\n",
      "2    24194\n",
      "1    24194\n",
      "Name: status_group, dtype: int64\n"
     ]
    }
   ],
   "source": [
    "print(y_train.value_counts())"
   ]
  },
  {
   "cell_type": "markdown",
   "metadata": {
    "colab": {
     "base_uri": "https://localhost:8080/"
    },
    "id": "MO7gumYmzQLV",
    "outputId": "0dec05c7-79da-41ce-e49c-f524d99d6930"
   },
   "source": [
    "# Hyperparameter tuning and model building"
   ]
  },
  {
   "cell_type": "code",
   "execution_count": 19,
   "metadata": {},
   "outputs": [],
   "source": [
    "#further spliting the training set into train and test set for cross validation\n",
    "from sklearn.model_selection import train_test_split\n",
    "X_train, X_test, y_train, y_test = train_test_split(x_train, y_train, test_size = 0.25, random_state = 0)"
   ]
  },
  {
   "cell_type": "markdown",
   "metadata": {},
   "source": [
    "### Hyperparameter tuning for RandomForestClassifier"
   ]
  },
  {
   "cell_type": "code",
   "execution_count": 20,
   "metadata": {},
   "outputs": [
    {
     "data": {
      "text/plain": [
       "RandomForestClassifier(random_state=0)"
      ]
     },
     "execution_count": 20,
     "metadata": {},
     "output_type": "execute_result"
    }
   ],
   "source": [
    "from sklearn.ensemble import RandomForestClassifier\n",
    "classifier_rand= RandomForestClassifier(random_state=0)\n",
    "classifier_rand.fit(X_train, y_train)"
   ]
  },
  {
   "cell_type": "code",
   "execution_count": 27,
   "metadata": {},
   "outputs": [
    {
     "name": "stdout",
     "output_type": "stream",
     "text": [
      "Best Accuracy: 88.33 %\n",
      "Best Parameters: {'max_depth': 30, 'max_features': 'auto', 'n_estimators': 30}\n"
     ]
    }
   ],
   "source": [
    "n_estimators=[10,15,20,30]\n",
    "max_features=['auto', 'log2']\n",
    "max_depth=[10,20,30]\n",
    "from sklearn.model_selection import GridSearchCV\n",
    "from sklearn.ensemble import RandomForestClassifier\n",
    "hyperparameter={'n_estimators':n_estimators,'max_features':max_features,'max_depth':max_depth}\n",
    "grid_search = GridSearchCV(estimator=classifier_rand,param_grid=hyperparameter,cv=5,n_jobs=4,scoring = 'accuracy')\n",
    "grid_search.fit(X_train,y_train)\n",
    "best_accuracy = grid_search.best_score_\n",
    "best_parameters = grid_search.best_params_\n",
    "print(\"Best Accuracy: {:.2f} %\".format(best_accuracy*100))\n",
    "print(\"Best Parameters:\", best_parameters)"
   ]
  },
  {
   "cell_type": "code",
   "execution_count": 28,
   "metadata": {
    "scrolled": true
   },
   "outputs": [
    {
     "name": "stdout",
     "output_type": "stream",
     "text": [
      "CV_score: 88.33493518717799\n",
      "Test_Accurarcy: 89.6395899922848\n"
     ]
    }
   ],
   "source": [
    "#cross validation using Test set\n",
    "from sklearn.model_selection import cross_val_score\n",
    "classifier_rand=RandomForestClassifier(max_depth=30, max_features='auto', n_estimators= 30)\n",
    "classifier_rand.fit(X_train,y_train)\n",
    "score=cross_val_score(classifier_rand,X_train,y_train,cv=5)\n",
    "print(\"CV_score:\",np.mean(score)*100)\n",
    "print(\"Test_Accurarcy:\",classifier_rand.score(X_test,y_test)*100)"
   ]
  },
  {
   "cell_type": "markdown",
   "metadata": {},
   "source": [
    "#### Feature ranking with recursive feature elimination and cross-validated selection of the best number of features."
   ]
  },
  {
   "cell_type": "code",
   "execution_count": 29,
   "metadata": {},
   "outputs": [
    {
     "name": "stdout",
     "output_type": "stream",
     "text": [
      "20\n",
      "[1 1 1 1 1 1 1 1 1 1 1 1 1 1 1 2 1 1 1 1 1]\n"
     ]
    }
   ],
   "source": [
    "\n",
    "from sklearn.feature_selection import RFECV\n",
    "selector=RFECV(classifier_rand,min_features_to_select=1)\n",
    "selector=selector.fit(X_train,y_train)\n",
    "print(selector.n_features_)\n",
    "print(selector.ranking_)"
   ]
  },
  {
   "cell_type": "code",
   "execution_count": 30,
   "metadata": {
    "scrolled": true
   },
   "outputs": [
    {
     "name": "stdout",
     "output_type": "stream",
     "text": [
      "Important feature : amount_tsh\n",
      "Important feature : funder\n",
      "Important feature : gps_height\n",
      "Important feature : installer\n",
      "Important feature : longitude\n",
      "Important feature : latitude\n",
      "Important feature : basin\n",
      "Important feature : region\n",
      "Important feature : region_code\n",
      "Important feature : lga\n",
      "Important feature : population\n",
      "Important feature : scheme_management\n",
      "Important feature : extraction_type\n",
      "Important feature : management\n",
      "Important feature : payment\n",
      "Important feature : quality_group\n",
      "Important feature : quantity\n",
      "Important feature : source_class\n",
      "Important feature : waterpoint_type\n",
      "Important feature : age\n",
      "Redundant Feature : water_quality\n"
     ]
    }
   ],
   "source": [
    "rank=selector.ranking_\n",
    "dict1=dict(enumerate(X_train.columns))\n",
    "for i in range(len(rank)):\n",
    "    if rank[i]==1:\n",
    "        print(\"Important feature : {}\".format(dict1[i]))\n",
    "for i in range(len(rank)):\n",
    "    if rank[i]!=1:        \n",
    "        print(\"Redundant Feature : {}\".format(dict1[i]))\n",
    "        \n",
    "        "
   ]
  },
  {
   "cell_type": "markdown",
   "metadata": {},
   "source": [
    "##### Redundant features can be eliminated in the second round of feature selection as they have low importance or ranking"
   ]
  },
  {
   "cell_type": "markdown",
   "metadata": {},
   "source": [
    "### Hyperparameter tuning for XGBoostClassifier"
   ]
  },
  {
   "cell_type": "code",
   "execution_count": 31,
   "metadata": {},
   "outputs": [
    {
     "name": "stderr",
     "output_type": "stream",
     "text": [
      "F:\\Anaconda\\lib\\site-packages\\xgboost\\sklearn.py:888: UserWarning: The use of label encoder in XGBClassifier is deprecated and will be removed in a future release. To remove this warning, do the following: 1) Pass option use_label_encoder=False when constructing XGBClassifier object; and 2) Encode your labels (y) as integers starting with 0, i.e. 0, 1, 2, ..., [num_class - 1].\n",
      "  warnings.warn(label_encoder_deprecation_msg, UserWarning)\n"
     ]
    },
    {
     "name": "stdout",
     "output_type": "stream",
     "text": [
      "[12:18:16] WARNING: C:/Users/Administrator/workspace/xgboost-win64_release_1.3.0/src/learner.cc:1061: Starting in XGBoost 1.3.0, the default evaluation metric used with the objective 'multi:softprob' was changed from 'merror' to 'mlogloss'. Explicitly set eval_metric if you'd like to restore the old behavior.\n"
     ]
    },
    {
     "data": {
      "text/plain": [
       "XGBClassifier(base_score=0.5, booster='gbtree', colsample_bylevel=1,\n",
       "              colsample_bynode=1, colsample_bytree=1, gamma=0, gpu_id=-1,\n",
       "              importance_type='gain', interaction_constraints='',\n",
       "              learning_rate=0.300000012, max_delta_step=0, max_depth=6,\n",
       "              min_child_weight=1, missing=nan, monotone_constraints='()',\n",
       "              n_estimators=100, n_jobs=8, num_parallel_tree=1,\n",
       "              objective='multi:softprob', random_state=0, reg_alpha=0,\n",
       "              reg_lambda=1, scale_pos_weight=None, subsample=1,\n",
       "              tree_method='exact', validate_parameters=1, verbosity=None)"
      ]
     },
     "execution_count": 31,
     "metadata": {},
     "output_type": "execute_result"
    }
   ],
   "source": [
    "from xgboost import XGBClassifier\n",
    "classifier_xg = XGBClassifier()\n",
    "classifier_xg.fit(X_train, y_train)\n"
   ]
  },
  {
   "cell_type": "code",
   "execution_count": 32,
   "metadata": {},
   "outputs": [
    {
     "name": "stderr",
     "output_type": "stream",
     "text": [
      "F:\\Anaconda\\lib\\site-packages\\xgboost\\sklearn.py:888: UserWarning: The use of label encoder in XGBClassifier is deprecated and will be removed in a future release. To remove this warning, do the following: 1) Pass option use_label_encoder=False when constructing XGBClassifier object; and 2) Encode your labels (y) as integers starting with 0, i.e. 0, 1, 2, ..., [num_class - 1].\n",
      "  warnings.warn(label_encoder_deprecation_msg, UserWarning)\n"
     ]
    },
    {
     "name": "stdout",
     "output_type": "stream",
     "text": [
      "[12:20:23] WARNING: C:/Users/Administrator/workspace/xgboost-win64_release_1.3.0/src/learner.cc:1061: Starting in XGBoost 1.3.0, the default evaluation metric used with the objective 'multi:softprob' was changed from 'merror' to 'mlogloss'. Explicitly set eval_metric if you'd like to restore the old behavior.\n",
      "Best Accuracy: 81.93 %\n",
      "Best Parameters: {'gamma': 0.02, 'max_depth': 10, 'n_estimators': 20}\n"
     ]
    }
   ],
   "source": [
    "gamma=[0.02, 0.05]\n",
    "n_estimators=[10,15,20]\n",
    "max_depth=[6,8,10]\n",
    "params = {'gamma':gamma,'n_estimators':n_estimators,'max_depth':max_depth}\n",
    "from sklearn.model_selection import GridSearchCV\n",
    "grid_search = GridSearchCV(estimator=classifier_xg,param_grid=params,cv=5,n_jobs=4,scoring = 'accuracy')\n",
    "grid_search.fit(X_train,y_train)\n",
    "best_accuracy = grid_search.best_score_\n",
    "best_parameters = grid_search.best_params_\n",
    "print(\"Best Accuracy: {:.2f} %\".format(best_accuracy*100))\n",
    "print(\"Best Parameters:\", best_parameters)"
   ]
  },
  {
   "cell_type": "code",
   "execution_count": 33,
   "metadata": {},
   "outputs": [
    {
     "name": "stdout",
     "output_type": "stream",
     "text": [
      "[12:20:47] WARNING: C:/Users/Administrator/workspace/xgboost-win64_release_1.3.0/src/learner.cc:1061: Starting in XGBoost 1.3.0, the default evaluation metric used with the objective 'multi:softprob' was changed from 'merror' to 'mlogloss'. Explicitly set eval_metric if you'd like to restore the old behavior.\n"
     ]
    },
    {
     "name": "stderr",
     "output_type": "stream",
     "text": [
      "F:\\Anaconda\\lib\\site-packages\\xgboost\\sklearn.py:888: UserWarning: The use of label encoder in XGBClassifier is deprecated and will be removed in a future release. To remove this warning, do the following: 1) Pass option use_label_encoder=False when constructing XGBClassifier object; and 2) Encode your labels (y) as integers starting with 0, i.e. 0, 1, 2, ..., [num_class - 1].\n",
      "  warnings.warn(label_encoder_deprecation_msg, UserWarning)\n"
     ]
    },
    {
     "name": "stdout",
     "output_type": "stream",
     "text": [
      "[12:20:51] WARNING: C:/Users/Administrator/workspace/xgboost-win64_release_1.3.0/src/learner.cc:1061: Starting in XGBoost 1.3.0, the default evaluation metric used with the objective 'multi:softprob' was changed from 'merror' to 'mlogloss'. Explicitly set eval_metric if you'd like to restore the old behavior.\n"
     ]
    },
    {
     "name": "stderr",
     "output_type": "stream",
     "text": [
      "F:\\Anaconda\\lib\\site-packages\\xgboost\\sklearn.py:888: UserWarning: The use of label encoder in XGBClassifier is deprecated and will be removed in a future release. To remove this warning, do the following: 1) Pass option use_label_encoder=False when constructing XGBClassifier object; and 2) Encode your labels (y) as integers starting with 0, i.e. 0, 1, 2, ..., [num_class - 1].\n",
      "  warnings.warn(label_encoder_deprecation_msg, UserWarning)\n"
     ]
    },
    {
     "name": "stdout",
     "output_type": "stream",
     "text": [
      "[12:20:54] WARNING: C:/Users/Administrator/workspace/xgboost-win64_release_1.3.0/src/learner.cc:1061: Starting in XGBoost 1.3.0, the default evaluation metric used with the objective 'multi:softprob' was changed from 'merror' to 'mlogloss'. Explicitly set eval_metric if you'd like to restore the old behavior.\n"
     ]
    },
    {
     "name": "stderr",
     "output_type": "stream",
     "text": [
      "F:\\Anaconda\\lib\\site-packages\\xgboost\\sklearn.py:888: UserWarning: The use of label encoder in XGBClassifier is deprecated and will be removed in a future release. To remove this warning, do the following: 1) Pass option use_label_encoder=False when constructing XGBClassifier object; and 2) Encode your labels (y) as integers starting with 0, i.e. 0, 1, 2, ..., [num_class - 1].\n",
      "  warnings.warn(label_encoder_deprecation_msg, UserWarning)\n"
     ]
    },
    {
     "name": "stdout",
     "output_type": "stream",
     "text": [
      "[12:20:57] WARNING: C:/Users/Administrator/workspace/xgboost-win64_release_1.3.0/src/learner.cc:1061: Starting in XGBoost 1.3.0, the default evaluation metric used with the objective 'multi:softprob' was changed from 'merror' to 'mlogloss'. Explicitly set eval_metric if you'd like to restore the old behavior.\n"
     ]
    },
    {
     "name": "stderr",
     "output_type": "stream",
     "text": [
      "F:\\Anaconda\\lib\\site-packages\\xgboost\\sklearn.py:888: UserWarning: The use of label encoder in XGBClassifier is deprecated and will be removed in a future release. To remove this warning, do the following: 1) Pass option use_label_encoder=False when constructing XGBClassifier object; and 2) Encode your labels (y) as integers starting with 0, i.e. 0, 1, 2, ..., [num_class - 1].\n",
      "  warnings.warn(label_encoder_deprecation_msg, UserWarning)\n"
     ]
    },
    {
     "name": "stdout",
     "output_type": "stream",
     "text": [
      "[12:21:00] WARNING: C:/Users/Administrator/workspace/xgboost-win64_release_1.3.0/src/learner.cc:1061: Starting in XGBoost 1.3.0, the default evaluation metric used with the objective 'multi:softprob' was changed from 'merror' to 'mlogloss'. Explicitly set eval_metric if you'd like to restore the old behavior.\n"
     ]
    },
    {
     "name": "stderr",
     "output_type": "stream",
     "text": [
      "F:\\Anaconda\\lib\\site-packages\\xgboost\\sklearn.py:888: UserWarning: The use of label encoder in XGBClassifier is deprecated and will be removed in a future release. To remove this warning, do the following: 1) Pass option use_label_encoder=False when constructing XGBClassifier object; and 2) Encode your labels (y) as integers starting with 0, i.e. 0, 1, 2, ..., [num_class - 1].\n",
      "  warnings.warn(label_encoder_deprecation_msg, UserWarning)\n"
     ]
    },
    {
     "name": "stdout",
     "output_type": "stream",
     "text": [
      "[12:21:03] WARNING: C:/Users/Administrator/workspace/xgboost-win64_release_1.3.0/src/learner.cc:1061: Starting in XGBoost 1.3.0, the default evaluation metric used with the objective 'multi:softprob' was changed from 'merror' to 'mlogloss'. Explicitly set eval_metric if you'd like to restore the old behavior.\n",
      "CV_score: 81.92924533618245\n",
      "Test_Accurarcy: 83.4508982695911\n"
     ]
    }
   ],
   "source": [
    "#cross validation using Test set\n",
    "from sklearn.model_selection import cross_val_score\n",
    "classifier_xg=XGBClassifier(max_depth=10,gamma=0.02 , n_estimators= 20)\n",
    "classifier_xg.fit(X_train,y_train)\n",
    "score=cross_val_score(classifier_xg,X_train,y_train,cv=5)\n",
    "print(\"CV_score:\",np.mean(score)*100)\n",
    "print(\"Test_Accurarcy:\",classifier_xg.score(X_test,y_test)*100)"
   ]
  },
  {
   "cell_type": "markdown",
   "metadata": {},
   "source": [
    "### Hyperparameter tuning for ExtraTreesClassifier"
   ]
  },
  {
   "cell_type": "code",
   "execution_count": 34,
   "metadata": {
    "id": "N6awZcQB0wF7"
   },
   "outputs": [
    {
     "data": {
      "text/plain": [
       "ExtraTreesClassifier(random_state=49)"
      ]
     },
     "execution_count": 34,
     "metadata": {},
     "output_type": "execute_result"
    }
   ],
   "source": [
    "from sklearn.ensemble import ExtraTreesClassifier\n",
    "classifier_extra=ExtraTreesClassifier(random_state=49)\n",
    "classifier_extra.fit(X_train,y_train)"
   ]
  },
  {
   "cell_type": "code",
   "execution_count": 35,
   "metadata": {},
   "outputs": [
    {
     "name": "stdout",
     "output_type": "stream",
     "text": [
      "Best Accuracy: 88.54 %\n",
      "Best Parameters: {'criterion': 'entropy', 'max_depth': 30, 'n_estimators': 30}\n"
     ]
    }
   ],
   "source": [
    "n_estimators=[10,15,20,30]\n",
    "max_depth = [10, 20, 30]\n",
    "criterion= ['entropy','gini']\n",
    "hyperparameter={'n_estimators':n_estimators,'max_depth':max_depth,'criterion':criterion}\n",
    "from sklearn.model_selection import GridSearchCV\n",
    "grid_search = GridSearchCV(estimator=classifier_extra,param_grid=hyperparameter,cv=5,n_jobs=4,scoring = 'accuracy')\n",
    "grid_search.fit(X_train,y_train)\n",
    "best_accuracy = grid_search.best_score_\n",
    "best_parameters = grid_search.best_params_\n",
    "print(\"Best Accuracy: {:.2f} %\".format(best_accuracy*100))\n",
    "print(\"Best Parameters:\", best_parameters)\n"
   ]
  },
  {
   "cell_type": "code",
   "execution_count": 36,
   "metadata": {},
   "outputs": [
    {
     "name": "stdout",
     "output_type": "stream",
     "text": [
      "CV_score: 88.52047707101616\n",
      "Test_Accurarcy: 90.03637165215474\n"
     ]
    }
   ],
   "source": [
    "#cross validation using Test set\n",
    "from sklearn.model_selection import cross_val_score\n",
    "classifier_extra=ExtraTreesClassifier(max_depth=30,criterion='gini',n_estimators= 30)\n",
    "classifier_extra.fit(X_train,y_train)\n",
    "score=cross_val_score(classifier_extra,X_train,y_train,cv=5)\n",
    "print(\"CV_score:\",np.mean(score)*100)\n",
    "print(\"Test_Accurarcy:\",classifier_extra.score(X_test,y_test)*100)"
   ]
  },
  {
   "cell_type": "markdown",
   "metadata": {},
   "source": [
    "# Feature engineering-2"
   ]
  },
  {
   "cell_type": "code",
   "execution_count": 209,
   "metadata": {},
   "outputs": [],
   "source": [
    "#For better accuracy:-\n",
    "# 1) We will eliminate the redundant features on the basis of recursive feature elimination and cross-validation ranking.\n",
    "# 2)We have further replaced latitute and longitute column by x, y and z coordinates for the better represented of the location.\n",
    "# 3)Standardized amount_tsh,gps_height and population columns just to avoid overtraining of the model on one feature over another."
   ]
  },
  {
   "cell_type": "code",
   "execution_count": 37,
   "metadata": {},
   "outputs": [],
   "source": [
    "#Elimination redundant features\n",
    "df_train=df_train.drop(['water_quality'],1)"
   ]
  },
  {
   "cell_type": "code",
   "execution_count": 38,
   "metadata": {},
   "outputs": [],
   "source": [
    "#Lat,long coordinates have a problem that they are 2 features that represent a three dimensional space.\n",
    "#Mapping lat,long coordinates into x , y and z coordinates.\n",
    "df_train['x_cord']=np.cos(df_train[\"longitude\"].astype(np.float64))*np.cos(df_train[\"latitude\"].astype(np.float64))\n",
    "df_train['y_cord']=np.sin(df_train[\"longitude\"].astype(np.float64))*np.cos(df_train[\"latitude\"].astype(np.float64))\n",
    "df_train['z_cord']=np.sin(df_train[\"latitude\"].astype(np.float64))\n"
   ]
  },
  {
   "cell_type": "code",
   "execution_count": 39,
   "metadata": {},
   "outputs": [],
   "source": [
    "#dropping latitude and longitute column\n",
    "df_train=df_train.drop(['longitude','latitude'],1)"
   ]
  },
  {
   "cell_type": "code",
   "execution_count": 40,
   "metadata": {
    "colab": {
     "base_uri": "https://localhost:8080/"
    },
    "id": "CicINIPt28EG",
    "outputId": "5bb05ee9-8e7e-4b34-b6b4-6dcee8f05288"
   },
   "outputs": [],
   "source": [
    "#standardizing 'amount_tsh','gps_height'and 'population' columns in training set\n",
    "from sklearn.preprocessing import StandardScaler\n",
    "sc = StandardScaler()\n",
    "std_col=['amount_tsh','gps_height','population']\n",
    "features = df_train[std_col]\n",
    "scaler= sc.fit_transform(features.values)\n",
    "df_train[std_col] = scaler"
   ]
  },
  {
   "cell_type": "code",
   "execution_count": 41,
   "metadata": {
    "scrolled": true
   },
   "outputs": [
    {
     "data": {
      "text/html": [
       "<div>\n",
       "<style scoped>\n",
       "    .dataframe tbody tr th:only-of-type {\n",
       "        vertical-align: middle;\n",
       "    }\n",
       "\n",
       "    .dataframe tbody tr th {\n",
       "        vertical-align: top;\n",
       "    }\n",
       "\n",
       "    .dataframe thead th {\n",
       "        text-align: right;\n",
       "    }\n",
       "</style>\n",
       "<table border=\"1\" class=\"dataframe\">\n",
       "  <thead>\n",
       "    <tr style=\"text-align: right;\">\n",
       "      <th></th>\n",
       "      <th>amount_tsh</th>\n",
       "      <th>funder</th>\n",
       "      <th>gps_height</th>\n",
       "      <th>installer</th>\n",
       "      <th>basin</th>\n",
       "      <th>region</th>\n",
       "      <th>region_code</th>\n",
       "      <th>lga</th>\n",
       "      <th>population</th>\n",
       "      <th>scheme_management</th>\n",
       "      <th>...</th>\n",
       "      <th>payment</th>\n",
       "      <th>quality_group</th>\n",
       "      <th>quantity</th>\n",
       "      <th>source_class</th>\n",
       "      <th>waterpoint_type</th>\n",
       "      <th>status_group</th>\n",
       "      <th>age</th>\n",
       "      <th>x_cord</th>\n",
       "      <th>y_cord</th>\n",
       "      <th>z_cord</th>\n",
       "    </tr>\n",
       "  </thead>\n",
       "  <tbody>\n",
       "    <tr>\n",
       "      <td>0</td>\n",
       "      <td>-0.125118</td>\n",
       "      <td>0</td>\n",
       "      <td>0.774905</td>\n",
       "      <td>0</td>\n",
       "      <td>0</td>\n",
       "      <td>0</td>\n",
       "      <td>3</td>\n",
       "      <td>0</td>\n",
       "      <td>-0.186043</td>\n",
       "      <td>0</td>\n",
       "      <td>...</td>\n",
       "      <td>0</td>\n",
       "      <td>0</td>\n",
       "      <td>0</td>\n",
       "      <td>0</td>\n",
       "      <td>0</td>\n",
       "      <td>functional</td>\n",
       "      <td>5</td>\n",
       "      <td>-0.885487</td>\n",
       "      <td>0.450296</td>\n",
       "      <td>0.114659</td>\n",
       "    </tr>\n",
       "    <tr>\n",
       "      <td>1</td>\n",
       "      <td>-0.128031</td>\n",
       "      <td>1</td>\n",
       "      <td>1.071887</td>\n",
       "      <td>1</td>\n",
       "      <td>1</td>\n",
       "      <td>1</td>\n",
       "      <td>11</td>\n",
       "      <td>1</td>\n",
       "      <td>-0.227797</td>\n",
       "      <td>1</td>\n",
       "      <td>...</td>\n",
       "      <td>1</td>\n",
       "      <td>0</td>\n",
       "      <td>0</td>\n",
       "      <td>0</td>\n",
       "      <td>0</td>\n",
       "      <td>functional</td>\n",
       "      <td>27</td>\n",
       "      <td>0.852227</td>\n",
       "      <td>0.049452</td>\n",
       "      <td>0.520830</td>\n",
       "    </tr>\n",
       "    <tr>\n",
       "      <td>2</td>\n",
       "      <td>-0.128031</td>\n",
       "      <td>2</td>\n",
       "      <td>1.306877</td>\n",
       "      <td>2</td>\n",
       "      <td>0</td>\n",
       "      <td>2</td>\n",
       "      <td>2</td>\n",
       "      <td>2</td>\n",
       "      <td>-0.060779</td>\n",
       "      <td>2</td>\n",
       "      <td>...</td>\n",
       "      <td>1</td>\n",
       "      <td>0</td>\n",
       "      <td>1</td>\n",
       "      <td>0</td>\n",
       "      <td>0</td>\n",
       "      <td>non functional</td>\n",
       "      <td>11</td>\n",
       "      <td>-0.497764</td>\n",
       "      <td>0.848647</td>\n",
       "      <td>0.178967</td>\n",
       "    </tr>\n",
       "    <tr>\n",
       "      <td>3</td>\n",
       "      <td>-0.128031</td>\n",
       "      <td>3</td>\n",
       "      <td>-0.959411</td>\n",
       "      <td>3</td>\n",
       "      <td>2</td>\n",
       "      <td>3</td>\n",
       "      <td>12</td>\n",
       "      <td>3</td>\n",
       "      <td>-0.373938</td>\n",
       "      <td>2</td>\n",
       "      <td>...</td>\n",
       "      <td>2</td>\n",
       "      <td>0</td>\n",
       "      <td>1</td>\n",
       "      <td>1</td>\n",
       "      <td>0</td>\n",
       "      <td>functional</td>\n",
       "      <td>18</td>\n",
       "      <td>0.505592</td>\n",
       "      <td>-0.677220</td>\n",
       "      <td>-0.534556</td>\n",
       "    </tr>\n",
       "    <tr>\n",
       "      <td>4</td>\n",
       "      <td>-0.003173</td>\n",
       "      <td>3</td>\n",
       "      <td>0.890238</td>\n",
       "      <td>3</td>\n",
       "      <td>0</td>\n",
       "      <td>0</td>\n",
       "      <td>3</td>\n",
       "      <td>4</td>\n",
       "      <td>-0.302956</td>\n",
       "      <td>2</td>\n",
       "      <td>...</td>\n",
       "      <td>3</td>\n",
       "      <td>0</td>\n",
       "      <td>1</td>\n",
       "      <td>0</td>\n",
       "      <td>0</td>\n",
       "      <td>functional</td>\n",
       "      <td>6</td>\n",
       "      <td>-0.862903</td>\n",
       "      <td>0.037649</td>\n",
       "      <td>0.503966</td>\n",
       "    </tr>\n",
       "  </tbody>\n",
       "</table>\n",
       "<p>5 rows × 22 columns</p>\n",
       "</div>"
      ],
      "text/plain": [
       "   amount_tsh  funder  gps_height  installer  basin  region  region_code  lga  \\\n",
       "0   -0.125118       0    0.774905          0      0       0            3    0   \n",
       "1   -0.128031       1    1.071887          1      1       1           11    1   \n",
       "2   -0.128031       2    1.306877          2      0       2            2    2   \n",
       "3   -0.128031       3   -0.959411          3      2       3           12    3   \n",
       "4   -0.003173       3    0.890238          3      0       0            3    4   \n",
       "\n",
       "   population  scheme_management  ...  payment  quality_group  quantity  \\\n",
       "0   -0.186043                  0  ...        0              0         0   \n",
       "1   -0.227797                  1  ...        1              0         0   \n",
       "2   -0.060779                  2  ...        1              0         1   \n",
       "3   -0.373938                  2  ...        2              0         1   \n",
       "4   -0.302956                  2  ...        3              0         1   \n",
       "\n",
       "   source_class  waterpoint_type    status_group  age    x_cord    y_cord  \\\n",
       "0             0                0      functional    5 -0.885487  0.450296   \n",
       "1             0                0      functional   27  0.852227  0.049452   \n",
       "2             0                0  non functional   11 -0.497764  0.848647   \n",
       "3             1                0      functional   18  0.505592 -0.677220   \n",
       "4             0                0      functional    6 -0.862903  0.037649   \n",
       "\n",
       "     z_cord  \n",
       "0  0.114659  \n",
       "1  0.520830  \n",
       "2  0.178967  \n",
       "3 -0.534556  \n",
       "4  0.503966  \n",
       "\n",
       "[5 rows x 22 columns]"
      ]
     },
     "execution_count": 41,
     "metadata": {},
     "output_type": "execute_result"
    }
   ],
   "source": [
    "df_train.head()"
   ]
  },
  {
   "cell_type": "code",
   "execution_count": 42,
   "metadata": {},
   "outputs": [
    {
     "data": {
      "text/plain": [
       "(44550, 22)"
      ]
     },
     "execution_count": 42,
     "metadata": {},
     "output_type": "execute_result"
    }
   ],
   "source": [
    "df_train.shape"
   ]
  },
  {
   "cell_type": "code",
   "execution_count": 43,
   "metadata": {},
   "outputs": [
    {
     "name": "stdout",
     "output_type": "stream",
     "text": [
      "The column 'amount_tsh' has range -0.12803146356712033 to 70.62523771540873\n",
      "The column 'funder' has range 0 to 84\n",
      "The column 'gps_height' has range -1.08915993803498 to 3.0339842859424797\n",
      "The column 'installer' has range 0 to 78\n",
      "The column 'basin' has range 0 to 8\n",
      "The column 'region' has range 0 to 20\n",
      "The column 'region_code' has range 1 to 99\n",
      "The column 'lga' has range 0 to 124\n",
      "The column 'population' has range -0.3739381808870536 to 63.30167695495039\n",
      "The column 'scheme_management' has range 0 to 11\n",
      "The column 'extraction_type' has range 0 to 17\n",
      "The column 'management' has range 0 to 11\n",
      "The column 'payment' has range 0 to 6\n",
      "The column 'quality_group' has range 0 to 5\n",
      "The column 'quantity' has range 0 to 4\n",
      "The column 'source_class' has range 0 to 2\n",
      "The column 'waterpoint_type' has range 0 to 6\n",
      "The column 'status_group' has range functional to non functional\n",
      "The column 'age' has range -7 to 53\n",
      "The column 'x_cord' has range -0.999815609347757 to 0.9999999999999998\n",
      "The column 'y_cord' has range -0.9999799236831607 to 0.9954478584746386\n",
      "The column 'z_cord' has range -0.9999999997444838 to 0.9999999999951028\n"
     ]
    }
   ],
   "source": [
    "#max and min values of each feature columns in training set\n",
    "for col in df_train.columns.values: \n",
    "    unique_entries = pd.unique(df_train[col])\n",
    "    print(f\"The column '{col}' has range {unique_entries.min()} to {unique_entries.max()}\")"
   ]
  },
  {
   "cell_type": "markdown",
   "metadata": {},
   "source": [
    "# Spliting the training set"
   ]
  },
  {
   "cell_type": "code",
   "execution_count": 44,
   "metadata": {},
   "outputs": [],
   "source": [
    "x_train=df_train.drop(['status_group'],1)\n",
    "y_train=df_train['status_group']"
   ]
  },
  {
   "cell_type": "code",
   "execution_count": 45,
   "metadata": {
    "scrolled": true
   },
   "outputs": [
    {
     "name": "stdout",
     "output_type": "stream",
     "text": [
      "functional                 24194\n",
      "non functional             17118\n",
      "functional needs repair     3238\n",
      "Name: status_group, dtype: int64\n",
      "1    24194\n",
      "2    17118\n",
      "3     3238\n",
      "Name: status_group, dtype: int64\n"
     ]
    }
   ],
   "source": [
    "#encoding dependent feature\n",
    "print(y_train.value_counts())\n",
    "#mapping each unquie value of dependent feature to numeric value\n",
    "y_train=y_train.map({'functional':1,'non functional':2,'functional needs repair':3})\n",
    "print(y_train.value_counts())"
   ]
  },
  {
   "cell_type": "markdown",
   "metadata": {},
   "source": [
    "We can see the dataset is imbalanced. So to avoid overtraining model on 1 feature over another feature, we will balance our dataset before trainng."
   ]
  },
  {
   "cell_type": "markdown",
   "metadata": {},
   "source": [
    "#### Handling imbalanced Dataset"
   ]
  },
  {
   "cell_type": "code",
   "execution_count": null,
   "metadata": {},
   "outputs": [],
   "source": [
    "from imblearn.over_sampling import RandomOverSampler\n",
    "ros=RandomOverSampler(random_state=0)\n",
    "x_train,y_train=ros.fit_resample(x_train,y_train)"
   ]
  },
  {
   "cell_type": "code",
   "execution_count": 47,
   "metadata": {},
   "outputs": [
    {
     "name": "stdout",
     "output_type": "stream",
     "text": [
      "3    24194\n",
      "2    24194\n",
      "1    24194\n",
      "Name: status_group, dtype: int64\n"
     ]
    }
   ],
   "source": [
    "print(y_train.value_counts())"
   ]
  },
  {
   "cell_type": "markdown",
   "metadata": {},
   "source": [
    "## Hyperparameter tuning and model building"
   ]
  },
  {
   "cell_type": "code",
   "execution_count": 48,
   "metadata": {},
   "outputs": [],
   "source": [
    "#further spliting the training set into train and test set for cross validation\n",
    "from sklearn.model_selection import train_test_split\n",
    "X_train, X_test, y_train, y_test = train_test_split(x_train, y_train, test_size = 0.25, random_state = 0)"
   ]
  },
  {
   "cell_type": "markdown",
   "metadata": {},
   "source": [
    "### Hyperparameter tuning for XgBoostClassifier"
   ]
  },
  {
   "cell_type": "code",
   "execution_count": 49,
   "metadata": {},
   "outputs": [
    {
     "name": "stderr",
     "output_type": "stream",
     "text": [
      "F:\\Anaconda\\lib\\site-packages\\xgboost\\sklearn.py:888: UserWarning: The use of label encoder in XGBClassifier is deprecated and will be removed in a future release. To remove this warning, do the following: 1) Pass option use_label_encoder=False when constructing XGBClassifier object; and 2) Encode your labels (y) as integers starting with 0, i.e. 0, 1, 2, ..., [num_class - 1].\n",
      "  warnings.warn(label_encoder_deprecation_msg, UserWarning)\n"
     ]
    },
    {
     "name": "stdout",
     "output_type": "stream",
     "text": [
      "[12:23:32] WARNING: C:/Users/Administrator/workspace/xgboost-win64_release_1.3.0/src/learner.cc:1061: Starting in XGBoost 1.3.0, the default evaluation metric used with the objective 'multi:softprob' was changed from 'merror' to 'mlogloss'. Explicitly set eval_metric if you'd like to restore the old behavior.\n"
     ]
    },
    {
     "data": {
      "text/plain": [
       "XGBClassifier(base_score=0.5, booster='gbtree', colsample_bylevel=1,\n",
       "              colsample_bynode=1, colsample_bytree=1, gamma=0, gpu_id=-1,\n",
       "              importance_type='gain', interaction_constraints='',\n",
       "              learning_rate=0.300000012, max_delta_step=0, max_depth=6,\n",
       "              min_child_weight=1, missing=nan, monotone_constraints='()',\n",
       "              n_estimators=100, n_jobs=8, num_parallel_tree=1,\n",
       "              objective='multi:softprob', random_state=0, reg_alpha=0,\n",
       "              reg_lambda=1, scale_pos_weight=None, subsample=1,\n",
       "              tree_method='exact', validate_parameters=1, verbosity=None)"
      ]
     },
     "execution_count": 49,
     "metadata": {},
     "output_type": "execute_result"
    }
   ],
   "source": [
    "from xgboost import XGBClassifier\n",
    "classifier_xg = XGBClassifier()\n",
    "classifier_xg.fit(X_train, y_train)"
   ]
  },
  {
   "cell_type": "code",
   "execution_count": 50,
   "metadata": {},
   "outputs": [
    {
     "name": "stderr",
     "output_type": "stream",
     "text": [
      "F:\\Anaconda\\lib\\site-packages\\xgboost\\sklearn.py:888: UserWarning: The use of label encoder in XGBClassifier is deprecated and will be removed in a future release. To remove this warning, do the following: 1) Pass option use_label_encoder=False when constructing XGBClassifier object; and 2) Encode your labels (y) as integers starting with 0, i.e. 0, 1, 2, ..., [num_class - 1].\n",
      "  warnings.warn(label_encoder_deprecation_msg, UserWarning)\n"
     ]
    },
    {
     "name": "stdout",
     "output_type": "stream",
     "text": [
      "[12:27:20] WARNING: C:/Users/Administrator/workspace/xgboost-win64_release_1.3.0/src/learner.cc:1061: Starting in XGBoost 1.3.0, the default evaluation metric used with the objective 'multi:softprob' was changed from 'merror' to 'mlogloss'. Explicitly set eval_metric if you'd like to restore the old behavior.\n",
      "Best Accuracy: 84.10 %\n",
      "Best Parameters: {'gamma': 0.05, 'max_depth': 10, 'n_estimators': 30}\n"
     ]
    }
   ],
   "source": [
    "gamma=[0.02, 0.05]\n",
    "n_estimators=[10,15,20,30]\n",
    "max_depth=[6,8,10]\n",
    "params = {'gamma':gamma,'n_estimators':n_estimators,'max_depth':max_depth}\n",
    "from sklearn.model_selection import GridSearchCV\n",
    "grid_search = GridSearchCV(estimator=classifier_xg,param_grid=params,cv=5,n_jobs=4,scoring = 'accuracy')\n",
    "grid_search.fit(X_train,y_train)\n",
    "best_accuracy = grid_search.best_score_\n",
    "best_parameters = grid_search.best_params_\n",
    "print(\"Best Accuracy: {:.2f} %\".format(best_accuracy*100))\n",
    "print(\"Best Parameters:\", best_parameters)"
   ]
  },
  {
   "cell_type": "code",
   "execution_count": 51,
   "metadata": {
    "scrolled": false
   },
   "outputs": [
    {
     "name": "stdout",
     "output_type": "stream",
     "text": [
      "[12:38:52] WARNING: C:/Users/Administrator/workspace/xgboost-win64_release_1.3.0/src/learner.cc:1061: Starting in XGBoost 1.3.0, the default evaluation metric used with the objective 'multi:softprob' was changed from 'merror' to 'mlogloss'. Explicitly set eval_metric if you'd like to restore the old behavior.\n"
     ]
    },
    {
     "name": "stderr",
     "output_type": "stream",
     "text": [
      "F:\\Anaconda\\lib\\site-packages\\xgboost\\sklearn.py:888: UserWarning: The use of label encoder in XGBClassifier is deprecated and will be removed in a future release. To remove this warning, do the following: 1) Pass option use_label_encoder=False when constructing XGBClassifier object; and 2) Encode your labels (y) as integers starting with 0, i.e. 0, 1, 2, ..., [num_class - 1].\n",
      "  warnings.warn(label_encoder_deprecation_msg, UserWarning)\n"
     ]
    },
    {
     "name": "stdout",
     "output_type": "stream",
     "text": [
      "[12:38:58] WARNING: C:/Users/Administrator/workspace/xgboost-win64_release_1.3.0/src/learner.cc:1061: Starting in XGBoost 1.3.0, the default evaluation metric used with the objective 'multi:softprob' was changed from 'merror' to 'mlogloss'. Explicitly set eval_metric if you'd like to restore the old behavior.\n"
     ]
    },
    {
     "name": "stderr",
     "output_type": "stream",
     "text": [
      "F:\\Anaconda\\lib\\site-packages\\xgboost\\sklearn.py:888: UserWarning: The use of label encoder in XGBClassifier is deprecated and will be removed in a future release. To remove this warning, do the following: 1) Pass option use_label_encoder=False when constructing XGBClassifier object; and 2) Encode your labels (y) as integers starting with 0, i.e. 0, 1, 2, ..., [num_class - 1].\n",
      "  warnings.warn(label_encoder_deprecation_msg, UserWarning)\n"
     ]
    },
    {
     "name": "stdout",
     "output_type": "stream",
     "text": [
      "[12:39:03] WARNING: C:/Users/Administrator/workspace/xgboost-win64_release_1.3.0/src/learner.cc:1061: Starting in XGBoost 1.3.0, the default evaluation metric used with the objective 'multi:softprob' was changed from 'merror' to 'mlogloss'. Explicitly set eval_metric if you'd like to restore the old behavior.\n"
     ]
    },
    {
     "name": "stderr",
     "output_type": "stream",
     "text": [
      "F:\\Anaconda\\lib\\site-packages\\xgboost\\sklearn.py:888: UserWarning: The use of label encoder in XGBClassifier is deprecated and will be removed in a future release. To remove this warning, do the following: 1) Pass option use_label_encoder=False when constructing XGBClassifier object; and 2) Encode your labels (y) as integers starting with 0, i.e. 0, 1, 2, ..., [num_class - 1].\n",
      "  warnings.warn(label_encoder_deprecation_msg, UserWarning)\n"
     ]
    },
    {
     "name": "stdout",
     "output_type": "stream",
     "text": [
      "[12:39:08] WARNING: C:/Users/Administrator/workspace/xgboost-win64_release_1.3.0/src/learner.cc:1061: Starting in XGBoost 1.3.0, the default evaluation metric used with the objective 'multi:softprob' was changed from 'merror' to 'mlogloss'. Explicitly set eval_metric if you'd like to restore the old behavior.\n"
     ]
    },
    {
     "name": "stderr",
     "output_type": "stream",
     "text": [
      "F:\\Anaconda\\lib\\site-packages\\xgboost\\sklearn.py:888: UserWarning: The use of label encoder in XGBClassifier is deprecated and will be removed in a future release. To remove this warning, do the following: 1) Pass option use_label_encoder=False when constructing XGBClassifier object; and 2) Encode your labels (y) as integers starting with 0, i.e. 0, 1, 2, ..., [num_class - 1].\n",
      "  warnings.warn(label_encoder_deprecation_msg, UserWarning)\n"
     ]
    },
    {
     "name": "stdout",
     "output_type": "stream",
     "text": [
      "[12:39:13] WARNING: C:/Users/Administrator/workspace/xgboost-win64_release_1.3.0/src/learner.cc:1061: Starting in XGBoost 1.3.0, the default evaluation metric used with the objective 'multi:softprob' was changed from 'merror' to 'mlogloss'. Explicitly set eval_metric if you'd like to restore the old behavior.\n"
     ]
    },
    {
     "name": "stderr",
     "output_type": "stream",
     "text": [
      "F:\\Anaconda\\lib\\site-packages\\xgboost\\sklearn.py:888: UserWarning: The use of label encoder in XGBClassifier is deprecated and will be removed in a future release. To remove this warning, do the following: 1) Pass option use_label_encoder=False when constructing XGBClassifier object; and 2) Encode your labels (y) as integers starting with 0, i.e. 0, 1, 2, ..., [num_class - 1].\n",
      "  warnings.warn(label_encoder_deprecation_msg, UserWarning)\n"
     ]
    },
    {
     "name": "stdout",
     "output_type": "stream",
     "text": [
      "[12:39:18] WARNING: C:/Users/Administrator/workspace/xgboost-win64_release_1.3.0/src/learner.cc:1061: Starting in XGBoost 1.3.0, the default evaluation metric used with the objective 'multi:softprob' was changed from 'merror' to 'mlogloss'. Explicitly set eval_metric if you'd like to restore the old behavior.\n",
      "CV_score: 84.0050818956636\n",
      "Test_Accurarcy: 85.57257797861789\n"
     ]
    }
   ],
   "source": [
    "#cross validation using Test set\n",
    "#cross validation using Test set\n",
    "from sklearn.model_selection import cross_val_score\n",
    "classifier_xg=XGBClassifier(max_depth=10,gamma=0.02 , n_estimators= 30)\n",
    "classifier_xg.fit(X_train,y_train)\n",
    "score=cross_val_score(classifier_xg,X_train,y_train,cv=5)\n",
    "print(\"CV_score:\",np.mean(score)*100)\n",
    "print(\"Test_Accurarcy:\",classifier_xg.score(X_test,y_test)*100)"
   ]
  },
  {
   "cell_type": "markdown",
   "metadata": {},
   "source": [
    "### Hyperparameter tuning for RandomForestClassifier"
   ]
  },
  {
   "cell_type": "code",
   "execution_count": 52,
   "metadata": {},
   "outputs": [
    {
     "data": {
      "text/plain": [
       "RandomForestClassifier(random_state=0)"
      ]
     },
     "execution_count": 52,
     "metadata": {},
     "output_type": "execute_result"
    }
   ],
   "source": [
    "from sklearn.ensemble import RandomForestClassifier\n",
    "classifier_rand= RandomForestClassifier(random_state=0)\n",
    "classifier_rand.fit(X_train, y_train)"
   ]
  },
  {
   "cell_type": "code",
   "execution_count": 53,
   "metadata": {},
   "outputs": [
    {
     "name": "stdout",
     "output_type": "stream",
     "text": [
      "Best Accuracy: 88.25 %\n",
      "Best Parameters: {'max_depth': 30, 'max_features': 'auto', 'n_estimators': 30}\n"
     ]
    }
   ],
   "source": [
    "n_estimators=[10,15,20,30]\n",
    "max_features=['auto', 'log2']\n",
    "max_depth=[10,20,30]\n",
    "from sklearn.model_selection import GridSearchCV\n",
    "from sklearn.ensemble import RandomForestClassifier\n",
    "hyperparameter={'n_estimators':n_estimators,'max_features':max_features,'max_depth':max_depth}\n",
    "grid_search = GridSearchCV(estimator=classifier_rand,param_grid=hyperparameter,cv=5,n_jobs=4,scoring = 'accuracy')\n",
    "grid_search.fit(X_train,y_train)\n",
    "best_accuracy = grid_search.best_score_\n",
    "best_parameters = grid_search.best_params_\n",
    "print(\"Best Accuracy: {:.2f} %\".format(best_accuracy*100))\n",
    "print(\"Best Parameters:\", best_parameters)"
   ]
  },
  {
   "cell_type": "code",
   "execution_count": 54,
   "metadata": {},
   "outputs": [
    {
     "name": "stdout",
     "output_type": "stream",
     "text": [
      "CV_score: 88.17511964299347\n",
      "Test_Accurarcy: 89.7057202689298\n"
     ]
    }
   ],
   "source": [
    "#cross validation using Test set\n",
    "from sklearn.model_selection import cross_val_score\n",
    "classifier_rand=RandomForestClassifier(max_depth=30, max_features='auto', n_estimators= 30)\n",
    "classifier_rand.fit(X_train,y_train)\n",
    "score=cross_val_score(classifier_rand,X_train,y_train,cv=5)\n",
    "print(\"CV_score:\",np.mean(score)*100)\n",
    "print(\"Test_Accurarcy:\",classifier_rand.score(X_test,y_test)*100)"
   ]
  },
  {
   "cell_type": "markdown",
   "metadata": {},
   "source": [
    "### Hyperparameter tuning for ExtraTreesClassifier"
   ]
  },
  {
   "cell_type": "code",
   "execution_count": 55,
   "metadata": {},
   "outputs": [
    {
     "data": {
      "text/plain": [
       "ExtraTreesClassifier(random_state=49)"
      ]
     },
     "execution_count": 55,
     "metadata": {},
     "output_type": "execute_result"
    }
   ],
   "source": [
    "from sklearn.ensemble import ExtraTreesClassifier\n",
    "classifier_extra=ExtraTreesClassifier(random_state=49)\n",
    "classifier_extra.fit(X_train,y_train)"
   ]
  },
  {
   "cell_type": "code",
   "execution_count": 56,
   "metadata": {},
   "outputs": [
    {
     "name": "stdout",
     "output_type": "stream",
     "text": [
      "Best Accuracy: 88.59 %\n",
      "Best Parameters: {'criterion': 'entropy', 'max_depth': 30, 'n_estimators': 30}\n"
     ]
    }
   ],
   "source": [
    "n_estimators=[10,15,20,30]\n",
    "max_depth = [10, 20, 30]\n",
    "criterion= ['entropy','gini']\n",
    "hyperparameter={'n_estimators':n_estimators,'max_depth':max_depth,'criterion':criterion}\n",
    "from sklearn.model_selection import GridSearchCV\n",
    "grid_search = GridSearchCV(estimator=classifier_extra,param_grid=hyperparameter,cv=5,n_jobs=4,scoring = 'accuracy')\n",
    "grid_search.fit(X_train,y_train)\n",
    "best_accuracy = grid_search.best_score_\n",
    "best_parameters = grid_search.best_params_\n",
    "print(\"Best Accuracy: {:.2f} %\".format(best_accuracy*100))\n",
    "print(\"Best Parameters:\", best_parameters)"
   ]
  },
  {
   "cell_type": "code",
   "execution_count": 57,
   "metadata": {},
   "outputs": [
    {
     "name": "stdout",
     "output_type": "stream",
     "text": [
      "CV_score: 88.59028695488969\n",
      "Test_Accurarcy: 89.89860024247768\n"
     ]
    }
   ],
   "source": [
    "#cross validation using Test set\n",
    "from sklearn.model_selection import cross_val_score\n",
    "classifier_extra=ExtraTreesClassifier(max_depth=30,criterion='gini',n_estimators= 30)\n",
    "classifier_extra.fit(X_train,y_train)\n",
    "score=cross_val_score(classifier_extra,X_train,y_train,cv=5)\n",
    "print(\"CV_score:\",np.mean(score)*100)\n",
    "print(\"Test_Accurarcy:\",classifier_extra.score(X_test,y_test)*100)"
   ]
  },
  {
   "cell_type": "markdown",
   "metadata": {},
   "source": [
    "## Visualization using T-sne"
   ]
  },
  {
   "cell_type": "code",
   "execution_count": 346,
   "metadata": {},
   "outputs": [],
   "source": [
    "y_train=y_train.map({1:'functional',2:'non functional',3:'functional needs repair'})"
   ]
  },
  {
   "cell_type": "code",
   "execution_count": 76,
   "metadata": {},
   "outputs": [],
   "source": [
    "from sklearn.manifold import TSNE"
   ]
  },
  {
   "cell_type": "code",
   "execution_count": 354,
   "metadata": {
    "scrolled": true
   },
   "outputs": [
    {
     "name": "stderr",
     "output_type": "stream",
     "text": [
      "F:\\Anaconda\\lib\\site-packages\\seaborn\\axisgrid.py:230: UserWarning: The `size` paramter has been renamed to `height`; please update your code.\n",
      "  warnings.warn(msg, UserWarning)\n"
     ]
    },
    {
     "data": {
      "image/png": "[encoded data removed]",
      "text/plain": [
       "<Figure size 656.125x504 with 1 Axes>"
      ]
     },
     "metadata": {
      "needs_background": "light"
     },
     "output_type": "display_data"
    }
   ],
   "source": [
    "model = TSNE(n_components=2, random_state=0, perplexity=40,  n_iter=4000)\n",
    "tsne_data = model.fit_transform(x_train[:20000])\n",
    "# creating a new data fram which help us in ploting the result data\n",
    "tsne_data = np.vstack((tsne_data.T, y_train[:20000])).T\n",
    "tsne_df = pd.DataFrame(data=tsne_data, columns=(\"Dim_1\", \"Dim_2\", \"label\"))\n",
    "# Ploting the result of tsne\n",
    "sns.FacetGrid(tsne_df, hue=\"label\", size=7).map(plt.scatter, 'Dim_1', 'Dim_2').add_legend()\n",
    "plt.title('With perplexity = 40, n_iter=4000')\n",
    "plt.show()"
   ]
  },
  {
   "cell_type": "markdown",
   "metadata": {},
   "source": [
    "## Feature engineering on Test data  "
   ]
  },
  {
   "cell_type": "code",
   "execution_count": 58,
   "metadata": {},
   "outputs": [],
   "source": [
    "#Adding a new feature \"AGE of the pump\"\n",
    "df_test['construction_year']=df_test['construction_year'].replace({0:1993})\n",
    "df_test['age']=pd.DatetimeIndex(df_test['date_recorded']).year.astype(int)-df_test['construction_year']"
   ]
  },
  {
   "cell_type": "code",
   "execution_count": 59,
   "metadata": {},
   "outputs": [],
   "source": [
    "#dropping id and data_recorded column\n",
    "df_test=df_test.drop(['id','date_recorded','Unnamed: 0'],1)"
   ]
  },
  {
   "cell_type": "code",
   "execution_count": 60,
   "metadata": {},
   "outputs": [],
   "source": [
    "#dropping public meeting, permit features,ward etc. would not effect our model much\n",
    "df_test=df_test.drop(['source_type','source','extraction_type_group','extraction_type_class','payment_type','quantity_group','waterpoint_type_group'],1)"
   ]
  },
  {
   "cell_type": "code",
   "execution_count": 61,
   "metadata": {},
   "outputs": [],
   "source": [
    "#dropping public meeting, permit features,ward etc. would not effect our model much\n",
    "df_test=df_test.drop(['public_meeting','permit','ward','subvillage','recorded_by','district_code','num_private','wpt_name','scheme_name','construction_year','management_group'],1)"
   ]
  },
  {
   "cell_type": "code",
   "execution_count": 62,
   "metadata": {},
   "outputs": [
    {
     "data": {
      "text/html": [
       "<div>\n",
       "<style scoped>\n",
       "    .dataframe tbody tr th:only-of-type {\n",
       "        vertical-align: middle;\n",
       "    }\n",
       "\n",
       "    .dataframe tbody tr th {\n",
       "        vertical-align: top;\n",
       "    }\n",
       "\n",
       "    .dataframe thead th {\n",
       "        text-align: right;\n",
       "    }\n",
       "</style>\n",
       "<table border=\"1\" class=\"dataframe\">\n",
       "  <thead>\n",
       "    <tr style=\"text-align: right;\">\n",
       "      <th></th>\n",
       "      <th>total_null_values</th>\n",
       "      <th>percent_null_values</th>\n",
       "    </tr>\n",
       "  </thead>\n",
       "  <tbody>\n",
       "    <tr>\n",
       "      <td>age</td>\n",
       "      <td>0</td>\n",
       "      <td>0.0</td>\n",
       "    </tr>\n",
       "    <tr>\n",
       "      <td>lga</td>\n",
       "      <td>0</td>\n",
       "      <td>0.0</td>\n",
       "    </tr>\n",
       "    <tr>\n",
       "      <td>funder</td>\n",
       "      <td>0</td>\n",
       "      <td>0.0</td>\n",
       "    </tr>\n",
       "    <tr>\n",
       "      <td>gps_height</td>\n",
       "      <td>0</td>\n",
       "      <td>0.0</td>\n",
       "    </tr>\n",
       "    <tr>\n",
       "      <td>installer</td>\n",
       "      <td>0</td>\n",
       "      <td>0.0</td>\n",
       "    </tr>\n",
       "    <tr>\n",
       "      <td>longitude</td>\n",
       "      <td>0</td>\n",
       "      <td>0.0</td>\n",
       "    </tr>\n",
       "    <tr>\n",
       "      <td>latitude</td>\n",
       "      <td>0</td>\n",
       "      <td>0.0</td>\n",
       "    </tr>\n",
       "    <tr>\n",
       "      <td>basin</td>\n",
       "      <td>0</td>\n",
       "      <td>0.0</td>\n",
       "    </tr>\n",
       "    <tr>\n",
       "      <td>region</td>\n",
       "      <td>0</td>\n",
       "      <td>0.0</td>\n",
       "    </tr>\n",
       "    <tr>\n",
       "      <td>region_code</td>\n",
       "      <td>0</td>\n",
       "      <td>0.0</td>\n",
       "    </tr>\n",
       "    <tr>\n",
       "      <td>population</td>\n",
       "      <td>0</td>\n",
       "      <td>0.0</td>\n",
       "    </tr>\n",
       "    <tr>\n",
       "      <td>waterpoint_type</td>\n",
       "      <td>0</td>\n",
       "      <td>0.0</td>\n",
       "    </tr>\n",
       "    <tr>\n",
       "      <td>scheme_management</td>\n",
       "      <td>0</td>\n",
       "      <td>0.0</td>\n",
       "    </tr>\n",
       "    <tr>\n",
       "      <td>extraction_type</td>\n",
       "      <td>0</td>\n",
       "      <td>0.0</td>\n",
       "    </tr>\n",
       "    <tr>\n",
       "      <td>management</td>\n",
       "      <td>0</td>\n",
       "      <td>0.0</td>\n",
       "    </tr>\n",
       "    <tr>\n",
       "      <td>payment</td>\n",
       "      <td>0</td>\n",
       "      <td>0.0</td>\n",
       "    </tr>\n",
       "    <tr>\n",
       "      <td>water_quality</td>\n",
       "      <td>0</td>\n",
       "      <td>0.0</td>\n",
       "    </tr>\n",
       "    <tr>\n",
       "      <td>quality_group</td>\n",
       "      <td>0</td>\n",
       "      <td>0.0</td>\n",
       "    </tr>\n",
       "    <tr>\n",
       "      <td>quantity</td>\n",
       "      <td>0</td>\n",
       "      <td>0.0</td>\n",
       "    </tr>\n",
       "    <tr>\n",
       "      <td>source_class</td>\n",
       "      <td>0</td>\n",
       "      <td>0.0</td>\n",
       "    </tr>\n",
       "    <tr>\n",
       "      <td>amount_tsh</td>\n",
       "      <td>0</td>\n",
       "      <td>0.0</td>\n",
       "    </tr>\n",
       "  </tbody>\n",
       "</table>\n",
       "</div>"
      ],
      "text/plain": [
       "                   total_null_values  percent_null_values\n",
       "age                                0                  0.0\n",
       "lga                                0                  0.0\n",
       "funder                             0                  0.0\n",
       "gps_height                         0                  0.0\n",
       "installer                          0                  0.0\n",
       "longitude                          0                  0.0\n",
       "latitude                           0                  0.0\n",
       "basin                              0                  0.0\n",
       "region                             0                  0.0\n",
       "region_code                        0                  0.0\n",
       "population                         0                  0.0\n",
       "waterpoint_type                    0                  0.0\n",
       "scheme_management                  0                  0.0\n",
       "extraction_type                    0                  0.0\n",
       "management                         0                  0.0\n",
       "payment                            0                  0.0\n",
       "water_quality                      0                  0.0\n",
       "quality_group                      0                  0.0\n",
       "quantity                           0                  0.0\n",
       "source_class                       0                  0.0\n",
       "amount_tsh                         0                  0.0"
      ]
     },
     "execution_count": 62,
     "metadata": {},
     "output_type": "execute_result"
    }
   ],
   "source": [
    "#handling missing values of test set\n",
    "total_null_values=df_test.isnull().sum().sort_values(ascending=False)\n",
    "percent_null_values=(df_test.isnull().sum()/df_test.isnull().count()).sort_values(ascending=False)\n",
    "totaldf_test=pd.concat([total_null_values,percent_null_values],1,keys=['total_null_values','percent_null_values'])\n",
    "totaldf_test"
   ]
  },
  {
   "cell_type": "code",
   "execution_count": 63,
   "metadata": {},
   "outputs": [],
   "source": [
    "#filling null_values with mode as data_type of the columns having null_values is categorical\n",
    "for column in ['scheme_management', 'installer', 'funder']:\n",
    "    df_test[column].fillna(df_test[column].mode()[0], inplace=True)"
   ]
  },
  {
   "cell_type": "code",
   "execution_count": 64,
   "metadata": {},
   "outputs": [],
   "source": [
    "#handling low frequency levels in 'funder' and 'installer'\n",
    "#converting those that occur 80 times or less and set to 'other'\n",
    "low_freq=['funder','installer']\n",
    "df_test = df_test.apply(lambda x: x.mask(x.map(x.value_counts())<80, 'other') if x.name in low_freq else x)"
   ]
  },
  {
   "cell_type": "code",
   "execution_count": 65,
   "metadata": {},
   "outputs": [],
   "source": [
    "#encoding categorical variable\n",
    "column=['installer','funder','basin','region','lga','scheme_management','extraction_type','management','payment','water_quality','quality_group','quantity','source_class','waterpoint_type']\n",
    "for col in column:\n",
    "    df_test[col]=pd.factorize(df_test[col])[0]  "
   ]
  },
  {
   "cell_type": "code",
   "execution_count": 66,
   "metadata": {},
   "outputs": [],
   "source": [
    "#Elimination redundant features\n",
    "df_test=df_test.drop(['water_quality'],1)"
   ]
  },
  {
   "cell_type": "code",
   "execution_count": 67,
   "metadata": {},
   "outputs": [],
   "source": [
    "#Lat,long coordinates have a problem that they are 2 features that represent a three dimensional space.\n",
    "#Mapping lat,long coordinates into x , y and z coordinates.\n",
    "df_test['x_cord']=np.cos(df_test[\"longitude\"].astype(np.float64))*np.cos(df_test[\"latitude\"].astype(np.float64))\n",
    "df_test['y_cord']=np.sin(df_test[\"longitude\"].astype(np.float64))*np.cos(df_test[\"latitude\"].astype(np.float64))\n",
    "df_test['z_cord']=np.sin(df_test[\"latitude\"].astype(np.float64))"
   ]
  },
  {
   "cell_type": "code",
   "execution_count": 68,
   "metadata": {},
   "outputs": [],
   "source": [
    "#dropping latitude and longitute column\n",
    "df_test=df_test.drop(['longitude','latitude'],1)"
   ]
  },
  {
   "cell_type": "code",
   "execution_count": 69,
   "metadata": {},
   "outputs": [],
   "source": [
    "#standardizing 'amount_tsh','gps_height'and 'population' columns in test set\n",
    "from sklearn.preprocessing import StandardScaler\n",
    "sc = StandardScaler()\n",
    "std_col=['amount_tsh','gps_height','population']\n",
    "features = df_test[std_col]\n",
    "scaler= sc.fit_transform(features.values)\n",
    "df_test[std_col] = scaler"
   ]
  },
  {
   "cell_type": "code",
   "execution_count": 70,
   "metadata": {},
   "outputs": [
    {
     "name": "stdout",
     "output_type": "stream",
     "text": [
      "The column 'amount_tsh' has range -0.08058319676048512 to 81.02822988318516\n",
      "The column 'funder' has range 0 to 31\n",
      "The column 'gps_height' has range -1.0698280723958797 to 2.8018298328777003\n",
      "The column 'installer' has range 0 to 23\n",
      "The column 'basin' has range 0 to 8\n",
      "The column 'region' has range 0 to 20\n",
      "The column 'region_code' has range 1 to 99\n",
      "The column 'lga' has range 0 to 123\n",
      "The column 'population' has range -0.4067611579933158 to 21.905767732589283\n",
      "The column 'scheme_management' has range 0 to 11\n",
      "The column 'extraction_type' has range 0 to 16\n",
      "The column 'management' has range 0 to 11\n",
      "The column 'payment' has range 0 to 6\n",
      "The column 'quality_group' has range 0 to 5\n",
      "The column 'quantity' has range 0 to 4\n",
      "The column 'source_class' has range 0 to 2\n",
      "The column 'waterpoint_type' has range 0 to 6\n",
      "The column 'age' has range -5 to 53\n",
      "The column 'x_cord' has range -0.9993762187149792 to 0.9999999999999998\n",
      "The column 'y_cord' has range -0.9997229516192775 to 0.9822582909639378\n",
      "The column 'z_cord' has range -0.9999999997190122 to 0.9999999893258777\n"
     ]
    }
   ],
   "source": [
    "#max and min values of each feature columns in test set \n",
    "for col in df_test.columns.values: \n",
    "    unique_entries = pd.unique(df_test[col])\n",
    "    print(f\"The column '{col}' has range {unique_entries.min()} to {unique_entries.max()}\")   "
   ]
  },
  {
   "cell_type": "code",
   "execution_count": 71,
   "metadata": {},
   "outputs": [
    {
     "data": {
      "text/plain": [
       "(14850, 21)"
      ]
     },
     "execution_count": 71,
     "metadata": {},
     "output_type": "execute_result"
    }
   ],
   "source": [
    "df_test.shape"
   ]
  },
  {
   "cell_type": "code",
   "execution_count": 72,
   "metadata": {
    "scrolled": true
   },
   "outputs": [
    {
     "data": {
      "text/html": [
       "<div>\n",
       "<style scoped>\n",
       "    .dataframe tbody tr th:only-of-type {\n",
       "        vertical-align: middle;\n",
       "    }\n",
       "\n",
       "    .dataframe tbody tr th {\n",
       "        vertical-align: top;\n",
       "    }\n",
       "\n",
       "    .dataframe thead th {\n",
       "        text-align: right;\n",
       "    }\n",
       "</style>\n",
       "<table border=\"1\" class=\"dataframe\">\n",
       "  <thead>\n",
       "    <tr style=\"text-align: right;\">\n",
       "      <th></th>\n",
       "      <th>amount_tsh</th>\n",
       "      <th>funder</th>\n",
       "      <th>gps_height</th>\n",
       "      <th>installer</th>\n",
       "      <th>basin</th>\n",
       "      <th>region</th>\n",
       "      <th>region_code</th>\n",
       "      <th>lga</th>\n",
       "      <th>population</th>\n",
       "      <th>scheme_management</th>\n",
       "      <th>...</th>\n",
       "      <th>management</th>\n",
       "      <th>payment</th>\n",
       "      <th>quality_group</th>\n",
       "      <th>quantity</th>\n",
       "      <th>source_class</th>\n",
       "      <th>waterpoint_type</th>\n",
       "      <th>age</th>\n",
       "      <th>x_cord</th>\n",
       "      <th>y_cord</th>\n",
       "      <th>z_cord</th>\n",
       "    </tr>\n",
       "  </thead>\n",
       "  <tbody>\n",
       "    <tr>\n",
       "      <td>0</td>\n",
       "      <td>-0.080583</td>\n",
       "      <td>0</td>\n",
       "      <td>1.445231</td>\n",
       "      <td>0</td>\n",
       "      <td>0</td>\n",
       "      <td>0</td>\n",
       "      <td>11</td>\n",
       "      <td>0</td>\n",
       "      <td>1.309072</td>\n",
       "      <td>0</td>\n",
       "      <td>...</td>\n",
       "      <td>0</td>\n",
       "      <td>0</td>\n",
       "      <td>0</td>\n",
       "      <td>0</td>\n",
       "      <td>0</td>\n",
       "      <td>0</td>\n",
       "      <td>7</td>\n",
       "      <td>0.197759</td>\n",
       "      <td>0.163141</td>\n",
       "      <td>-0.966580</td>\n",
       "    </tr>\n",
       "    <tr>\n",
       "      <td>1</td>\n",
       "      <td>-0.080583</td>\n",
       "      <td>0</td>\n",
       "      <td>-0.978713</td>\n",
       "      <td>1</td>\n",
       "      <td>1</td>\n",
       "      <td>1</td>\n",
       "      <td>1</td>\n",
       "      <td>1</td>\n",
       "      <td>-0.406761</td>\n",
       "      <td>0</td>\n",
       "      <td>...</td>\n",
       "      <td>0</td>\n",
       "      <td>0</td>\n",
       "      <td>0</td>\n",
       "      <td>1</td>\n",
       "      <td>0</td>\n",
       "      <td>0</td>\n",
       "      <td>18</td>\n",
       "      <td>0.017021</td>\n",
       "      <td>-0.484441</td>\n",
       "      <td>0.874659</td>\n",
       "    </tr>\n",
       "    <tr>\n",
       "      <td>2</td>\n",
       "      <td>-0.080583</td>\n",
       "      <td>1</td>\n",
       "      <td>-0.978713</td>\n",
       "      <td>2</td>\n",
       "      <td>0</td>\n",
       "      <td>1</td>\n",
       "      <td>1</td>\n",
       "      <td>2</td>\n",
       "      <td>-0.406761</td>\n",
       "      <td>0</td>\n",
       "      <td>...</td>\n",
       "      <td>0</td>\n",
       "      <td>0</td>\n",
       "      <td>0</td>\n",
       "      <td>1</td>\n",
       "      <td>0</td>\n",
       "      <td>1</td>\n",
       "      <td>18</td>\n",
       "      <td>0.122979</td>\n",
       "      <td>-0.513598</td>\n",
       "      <td>-0.849172</td>\n",
       "    </tr>\n",
       "    <tr>\n",
       "      <td>3</td>\n",
       "      <td>-0.080583</td>\n",
       "      <td>0</td>\n",
       "      <td>-0.978713</td>\n",
       "      <td>0</td>\n",
       "      <td>2</td>\n",
       "      <td>2</td>\n",
       "      <td>18</td>\n",
       "      <td>3</td>\n",
       "      <td>-0.406761</td>\n",
       "      <td>0</td>\n",
       "      <td>...</td>\n",
       "      <td>0</td>\n",
       "      <td>0</td>\n",
       "      <td>0</td>\n",
       "      <td>1</td>\n",
       "      <td>0</td>\n",
       "      <td>1</td>\n",
       "      <td>18</td>\n",
       "      <td>-0.559807</td>\n",
       "      <td>-0.045099</td>\n",
       "      <td>-0.827395</td>\n",
       "    </tr>\n",
       "    <tr>\n",
       "      <td>4</td>\n",
       "      <td>-0.080583</td>\n",
       "      <td>2</td>\n",
       "      <td>-0.978713</td>\n",
       "      <td>0</td>\n",
       "      <td>2</td>\n",
       "      <td>2</td>\n",
       "      <td>18</td>\n",
       "      <td>4</td>\n",
       "      <td>-0.406761</td>\n",
       "      <td>0</td>\n",
       "      <td>...</td>\n",
       "      <td>0</td>\n",
       "      <td>0</td>\n",
       "      <td>0</td>\n",
       "      <td>2</td>\n",
       "      <td>1</td>\n",
       "      <td>0</td>\n",
       "      <td>18</td>\n",
       "      <td>0.291332</td>\n",
       "      <td>0.132899</td>\n",
       "      <td>-0.947345</td>\n",
       "    </tr>\n",
       "  </tbody>\n",
       "</table>\n",
       "<p>5 rows × 21 columns</p>\n",
       "</div>"
      ],
      "text/plain": [
       "   amount_tsh  funder  gps_height  installer  basin  region  region_code  lga  \\\n",
       "0   -0.080583       0    1.445231          0      0       0           11    0   \n",
       "1   -0.080583       0   -0.978713          1      1       1            1    1   \n",
       "2   -0.080583       1   -0.978713          2      0       1            1    2   \n",
       "3   -0.080583       0   -0.978713          0      2       2           18    3   \n",
       "4   -0.080583       2   -0.978713          0      2       2           18    4   \n",
       "\n",
       "   population  scheme_management  ...  management  payment  quality_group  \\\n",
       "0    1.309072                  0  ...           0        0              0   \n",
       "1   -0.406761                  0  ...           0        0              0   \n",
       "2   -0.406761                  0  ...           0        0              0   \n",
       "3   -0.406761                  0  ...           0        0              0   \n",
       "4   -0.406761                  0  ...           0        0              0   \n",
       "\n",
       "   quantity  source_class  waterpoint_type  age    x_cord    y_cord    z_cord  \n",
       "0         0             0                0    7  0.197759  0.163141 -0.966580  \n",
       "1         1             0                0   18  0.017021 -0.484441  0.874659  \n",
       "2         1             0                1   18  0.122979 -0.513598 -0.849172  \n",
       "3         1             0                1   18 -0.559807 -0.045099 -0.827395  \n",
       "4         2             1                0   18  0.291332  0.132899 -0.947345  \n",
       "\n",
       "[5 rows x 21 columns]"
      ]
     },
     "execution_count": 72,
     "metadata": {},
     "output_type": "execute_result"
    }
   ],
   "source": [
    "df_test.head()"
   ]
  },
  {
   "cell_type": "markdown",
   "metadata": {},
   "source": [
    "### Comments:-\n",
    "1)Out of the above three models, we have selected ExtraTreesClassifier as it is giving highest Test accuracy of 89.89% .\n",
    "\n",
    "2)Now, we will do final prediction on Test.csv data,using ExtraTreesclassifier. "
   ]
  },
  {
   "cell_type": "markdown",
   "metadata": {},
   "source": [
    "### Prediction on Test data"
   ]
  },
  {
   "cell_type": "code",
   "execution_count": 73,
   "metadata": {},
   "outputs": [],
   "source": [
    "df_test1=df_test.copy()"
   ]
  },
  {
   "cell_type": "code",
   "execution_count": 74,
   "metadata": {},
   "outputs": [],
   "source": [
    "test_data=classifier_xg.predict(df_test1)\n",
    "test_data=pd.DataFrame(test_data,columns=['status_group'])\n",
    "test_data['status_group']=test_data['status_group'].map({1:'functional',2:'non functional',3:'functional needs repair'})\n",
    "test_data.to_csv('203110049_assignment2.csv',header=False,index=False)"
   ]
  },
  {
   "cell_type": "markdown",
   "metadata": {},
   "source": [
    "References:-\n",
    "    1)scikit-learn tutorials and user guide https://scikit-learn.org/ \n",
    "    2)https://scikit-learn.org/stable/modules/generated/sklearn.feature_selection.RFECV.html\n",
    "    3)https://www.kaggle.com/rafay12/pca-vs-tsne\n",
    "    4)https://www.kaggle.com/phunter/xgboost-with-gridsearchcv\n",
    "    5)https://machinelearningmastery.com/ for feature engineering\n",
    "    6)https://medium.com/ for feature engineering"
   ]
  },
  {
   "cell_type": "code",
   "execution_count": null,
   "metadata": {},
   "outputs": [],
   "source": []
  }
 ],
 "metadata": {
  "colab": {
   "collapsed_sections": [],
   "name": "EE Assignment 2.ipynb",
   "provenance": []
  },
  "kernelspec": {
   "display_name": "Python 3",
   "language": "python",
   "name": "python3"
  },
  "language_info": {
   "codemirror_mode": {
    "name": "ipython",
    "version": 3
   },
   "file_extension": ".py",
   "mimetype": "text/x-python",
   "name": "python",
   "nbconvert_exporter": "python",
   "pygments_lexer": "ipython3",
   "version": "3.7.4"
  }
 },
 "nbformat": 4,
 "nbformat_minor": 1
}
